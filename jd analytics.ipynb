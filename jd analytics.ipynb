{
 "cells": [
  {
   "cell_type": "markdown",
   "id": "edb5e6f2",
   "metadata": {},
   "source": [
    "## BCIS 5110 Analysis of JD Data"
   ]
  },
  {
   "cell_type": "code",
   "execution_count": 1,
   "id": "6fc2bb24",
   "metadata": {},
   "outputs": [],
   "source": [
    "# This code appears in every demonstration Notebook.\n",
    "# By default, when you run each cell, only the last output of the codes will show.\n",
    "# This code makes all outputs of a cell show.\n",
    "from IPython.core.interactiveshell import InteractiveShell\n",
    "InteractiveShell.ast_node_interactivity = \"all\""
   ]
  },
  {
   "cell_type": "markdown",
   "id": "409e4901",
   "metadata": {},
   "source": [
    "### We will analyze JD Data in the rest of our assignments."
   ]
  },
  {
   "cell_type": "markdown",
   "id": "959c44b9",
   "metadata": {},
   "source": [
    "#### Assignment 8 include Q1 - Q10."
   ]
  },
  {
   "cell_type": "markdown",
   "id": "52749b83",
   "metadata": {},
   "source": [
    "1. Import necessary packages."
   ]
  },
  {
   "cell_type": "code",
   "execution_count": 2,
   "id": "e832a01e",
   "metadata": {},
   "outputs": [],
   "source": [
    "import pandas as pd\n",
    "import numpy as np\n",
    "import matplotlib.pyplot as plt\n"
   ]
  },
  {
   "cell_type": "markdown",
   "id": "2169b408",
   "metadata": {},
   "source": [
    "2. Read in the three csv files."
   ]
  },
  {
   "cell_type": "code",
   "execution_count": 3,
   "id": "4c19a50a",
   "metadata": {},
   "outputs": [],
   "source": [
    "sku = pd.read_csv('./jd/JD_sku_data.csv')\n",
    "user = pd.read_csv('./jd/JD_user_data.csv')\n",
    "order = pd.read_csv('./jd/JD_order_data.csv')"
   ]
  },
  {
   "cell_type": "markdown",
   "id": "68e999a7",
   "metadata": {},
   "source": [
    "3. Display a sample of each data frame. Show the attributes. How many observations? How many columns? What are the columns? (We have code to display such information.)"
   ]
  },
  {
   "cell_type": "code",
   "execution_count": 4,
   "id": "66478200",
   "metadata": {},
   "outputs": [
    {
     "data": {
      "text/plain": [
       "pandas.core.frame.DataFrame"
      ]
     },
     "execution_count": 4,
     "metadata": {},
     "output_type": "execute_result"
    }
   ],
   "source": [
    "type(sku)"
   ]
  },
  {
   "cell_type": "code",
   "execution_count": 5,
   "id": "c4a109d0",
   "metadata": {},
   "outputs": [
    {
     "data": {
      "text/html": [
       "<div>\n",
       "<style scoped>\n",
       "    .dataframe tbody tr th:only-of-type {\n",
       "        vertical-align: middle;\n",
       "    }\n",
       "\n",
       "    .dataframe tbody tr th {\n",
       "        vertical-align: top;\n",
       "    }\n",
       "\n",
       "    .dataframe thead th {\n",
       "        text-align: right;\n",
       "    }\n",
       "</style>\n",
       "<table border=\"1\" class=\"dataframe\">\n",
       "  <thead>\n",
       "    <tr style=\"text-align: right;\">\n",
       "      <th></th>\n",
       "      <th>sku_ID</th>\n",
       "      <th>type</th>\n",
       "      <th>brand_ID</th>\n",
       "      <th>attribute1</th>\n",
       "      <th>attribute2</th>\n",
       "      <th>activate_date</th>\n",
       "      <th>deactivate_date</th>\n",
       "    </tr>\n",
       "  </thead>\n",
       "  <tbody>\n",
       "    <tr>\n",
       "      <th>0</th>\n",
       "      <td>a234e08c57</td>\n",
       "      <td>1</td>\n",
       "      <td>c3ab4bf4d9</td>\n",
       "      <td>3.0</td>\n",
       "      <td>60.0</td>\n",
       "      <td>NaN</td>\n",
       "      <td>NaN</td>\n",
       "    </tr>\n",
       "    <tr>\n",
       "      <th>1</th>\n",
       "      <td>6449e1fd87</td>\n",
       "      <td>1</td>\n",
       "      <td>1d8b4b4c63</td>\n",
       "      <td>2.0</td>\n",
       "      <td>50.0</td>\n",
       "      <td>NaN</td>\n",
       "      <td>NaN</td>\n",
       "    </tr>\n",
       "    <tr>\n",
       "      <th>2</th>\n",
       "      <td>09b70fcd83</td>\n",
       "      <td>2</td>\n",
       "      <td>eb7d2a675a</td>\n",
       "      <td>3.0</td>\n",
       "      <td>70.0</td>\n",
       "      <td>NaN</td>\n",
       "      <td>NaN</td>\n",
       "    </tr>\n",
       "    <tr>\n",
       "      <th>3</th>\n",
       "      <td>acad9fed04</td>\n",
       "      <td>2</td>\n",
       "      <td>9b0d3a5fc6</td>\n",
       "      <td>3.0</td>\n",
       "      <td>70.0</td>\n",
       "      <td>NaN</td>\n",
       "      <td>NaN</td>\n",
       "    </tr>\n",
       "    <tr>\n",
       "      <th>4</th>\n",
       "      <td>2fa77e3b4d</td>\n",
       "      <td>2</td>\n",
       "      <td>b681299668</td>\n",
       "      <td>-</td>\n",
       "      <td>-</td>\n",
       "      <td>NaN</td>\n",
       "      <td>NaN</td>\n",
       "    </tr>\n",
       "  </tbody>\n",
       "</table>\n",
       "</div>"
      ],
      "text/plain": [
       "       sku_ID  type    brand_ID attribute1 attribute2 activate_date  \\\n",
       "0  a234e08c57     1  c3ab4bf4d9        3.0       60.0           NaN   \n",
       "1  6449e1fd87     1  1d8b4b4c63        2.0       50.0           NaN   \n",
       "2  09b70fcd83     2  eb7d2a675a        3.0       70.0           NaN   \n",
       "3  acad9fed04     2  9b0d3a5fc6        3.0       70.0           NaN   \n",
       "4  2fa77e3b4d     2  b681299668          -          -           NaN   \n",
       "\n",
       "  deactivate_date  \n",
       "0             NaN  \n",
       "1             NaN  \n",
       "2             NaN  \n",
       "3             NaN  \n",
       "4             NaN  "
      ]
     },
     "execution_count": 5,
     "metadata": {},
     "output_type": "execute_result"
    }
   ],
   "source": [
    "sku.head()"
   ]
  },
  {
   "cell_type": "code",
   "execution_count": 6,
   "id": "6de0e7f0",
   "metadata": {},
   "outputs": [
    {
     "data": {
      "text/plain": [
       "Index(['sku_ID', 'type', 'brand_ID', 'attribute1', 'attribute2',\n",
       "       'activate_date', 'deactivate_date'],\n",
       "      dtype='object')"
      ]
     },
     "execution_count": 6,
     "metadata": {},
     "output_type": "execute_result"
    }
   ],
   "source": [
    "sku.columns"
   ]
  },
  {
   "cell_type": "code",
   "execution_count": 7,
   "id": "58e1a654",
   "metadata": {},
   "outputs": [
    {
     "data": {
      "text/plain": [
       "(31868, 7)"
      ]
     },
     "execution_count": 7,
     "metadata": {},
     "output_type": "execute_result"
    }
   ],
   "source": [
    "sku.shape"
   ]
  },
  {
   "cell_type": "code",
   "execution_count": 8,
   "id": "69b5f8a0",
   "metadata": {},
   "outputs": [
    {
     "data": {
      "text/plain": [
       "pandas.core.frame.DataFrame"
      ]
     },
     "execution_count": 8,
     "metadata": {},
     "output_type": "execute_result"
    }
   ],
   "source": [
    "type(order)"
   ]
  },
  {
   "cell_type": "code",
   "execution_count": 9,
   "id": "a4f06014",
   "metadata": {},
   "outputs": [
    {
     "data": {
      "text/html": [
       "<div>\n",
       "<style scoped>\n",
       "    .dataframe tbody tr th:only-of-type {\n",
       "        vertical-align: middle;\n",
       "    }\n",
       "\n",
       "    .dataframe tbody tr th {\n",
       "        vertical-align: top;\n",
       "    }\n",
       "\n",
       "    .dataframe thead th {\n",
       "        text-align: right;\n",
       "    }\n",
       "</style>\n",
       "<table border=\"1\" class=\"dataframe\">\n",
       "  <thead>\n",
       "    <tr style=\"text-align: right;\">\n",
       "      <th></th>\n",
       "      <th>order_ID</th>\n",
       "      <th>user_ID</th>\n",
       "      <th>sku_ID</th>\n",
       "      <th>order_date</th>\n",
       "      <th>order_time</th>\n",
       "      <th>quantity</th>\n",
       "      <th>type</th>\n",
       "      <th>promise</th>\n",
       "      <th>original_unit_price</th>\n",
       "      <th>final_unit_price</th>\n",
       "      <th>direct_discount_per_unit</th>\n",
       "      <th>quantity_discount_per_unit</th>\n",
       "      <th>bundle_discount_per_unit</th>\n",
       "      <th>coupon_discount_per_unit</th>\n",
       "      <th>gift_item</th>\n",
       "      <th>dc_ori</th>\n",
       "      <th>dc_des</th>\n",
       "    </tr>\n",
       "  </thead>\n",
       "  <tbody>\n",
       "    <tr>\n",
       "      <th>0</th>\n",
       "      <td>d0cf5cc6db</td>\n",
       "      <td>0abe9ef2ce</td>\n",
       "      <td>581d5b54c1</td>\n",
       "      <td>2018-03-01</td>\n",
       "      <td>2018-03-01 17:14:25.0</td>\n",
       "      <td>1</td>\n",
       "      <td>2</td>\n",
       "      <td>-</td>\n",
       "      <td>89.0</td>\n",
       "      <td>79.0</td>\n",
       "      <td>0.0</td>\n",
       "      <td>10.0</td>\n",
       "      <td>0.0</td>\n",
       "      <td>0.0</td>\n",
       "      <td>0</td>\n",
       "      <td>4</td>\n",
       "      <td>28</td>\n",
       "    </tr>\n",
       "    <tr>\n",
       "      <th>1</th>\n",
       "      <td>7444318d01</td>\n",
       "      <td>33a9e56257</td>\n",
       "      <td>067b673f2b</td>\n",
       "      <td>2018-03-01</td>\n",
       "      <td>2018-03-01 11:10:40.0</td>\n",
       "      <td>1</td>\n",
       "      <td>1</td>\n",
       "      <td>2</td>\n",
       "      <td>99.9</td>\n",
       "      <td>53.9</td>\n",
       "      <td>5.0</td>\n",
       "      <td>41.0</td>\n",
       "      <td>0.0</td>\n",
       "      <td>0.0</td>\n",
       "      <td>0</td>\n",
       "      <td>28</td>\n",
       "      <td>28</td>\n",
       "    </tr>\n",
       "    <tr>\n",
       "      <th>2</th>\n",
       "      <td>f973b01694</td>\n",
       "      <td>4ea3cf408f</td>\n",
       "      <td>623d0a582a</td>\n",
       "      <td>2018-03-01</td>\n",
       "      <td>2018-03-01 09:13:26.0</td>\n",
       "      <td>1</td>\n",
       "      <td>1</td>\n",
       "      <td>2</td>\n",
       "      <td>78.0</td>\n",
       "      <td>58.5</td>\n",
       "      <td>19.5</td>\n",
       "      <td>0.0</td>\n",
       "      <td>0.0</td>\n",
       "      <td>0.0</td>\n",
       "      <td>0</td>\n",
       "      <td>28</td>\n",
       "      <td>28</td>\n",
       "    </tr>\n",
       "    <tr>\n",
       "      <th>3</th>\n",
       "      <td>8c1cec8d4b</td>\n",
       "      <td>b87cb736cb</td>\n",
       "      <td>fc5289b139</td>\n",
       "      <td>2018-03-01</td>\n",
       "      <td>2018-03-01 21:29:50.0</td>\n",
       "      <td>1</td>\n",
       "      <td>1</td>\n",
       "      <td>2</td>\n",
       "      <td>61.0</td>\n",
       "      <td>35.0</td>\n",
       "      <td>0.0</td>\n",
       "      <td>26.0</td>\n",
       "      <td>0.0</td>\n",
       "      <td>0.0</td>\n",
       "      <td>0</td>\n",
       "      <td>4</td>\n",
       "      <td>28</td>\n",
       "    </tr>\n",
       "    <tr>\n",
       "      <th>4</th>\n",
       "      <td>d43a33c38a</td>\n",
       "      <td>4829223b6f</td>\n",
       "      <td>623d0a582a</td>\n",
       "      <td>2018-03-01</td>\n",
       "      <td>2018-03-01 19:13:37.0</td>\n",
       "      <td>1</td>\n",
       "      <td>1</td>\n",
       "      <td>1</td>\n",
       "      <td>78.0</td>\n",
       "      <td>53.0</td>\n",
       "      <td>19.0</td>\n",
       "      <td>0.0</td>\n",
       "      <td>0.0</td>\n",
       "      <td>6.0</td>\n",
       "      <td>0</td>\n",
       "      <td>3</td>\n",
       "      <td>16</td>\n",
       "    </tr>\n",
       "  </tbody>\n",
       "</table>\n",
       "</div>"
      ],
      "text/plain": [
       "     order_ID     user_ID      sku_ID  order_date             order_time  \\\n",
       "0  d0cf5cc6db  0abe9ef2ce  581d5b54c1  2018-03-01  2018-03-01 17:14:25.0   \n",
       "1  7444318d01  33a9e56257  067b673f2b  2018-03-01  2018-03-01 11:10:40.0   \n",
       "2  f973b01694  4ea3cf408f  623d0a582a  2018-03-01  2018-03-01 09:13:26.0   \n",
       "3  8c1cec8d4b  b87cb736cb  fc5289b139  2018-03-01  2018-03-01 21:29:50.0   \n",
       "4  d43a33c38a  4829223b6f  623d0a582a  2018-03-01  2018-03-01 19:13:37.0   \n",
       "\n",
       "   quantity  type promise  original_unit_price  final_unit_price  \\\n",
       "0         1     2       -                 89.0              79.0   \n",
       "1         1     1       2                 99.9              53.9   \n",
       "2         1     1       2                 78.0              58.5   \n",
       "3         1     1       2                 61.0              35.0   \n",
       "4         1     1       1                 78.0              53.0   \n",
       "\n",
       "   direct_discount_per_unit  quantity_discount_per_unit  \\\n",
       "0                       0.0                        10.0   \n",
       "1                       5.0                        41.0   \n",
       "2                      19.5                         0.0   \n",
       "3                       0.0                        26.0   \n",
       "4                      19.0                         0.0   \n",
       "\n",
       "   bundle_discount_per_unit  coupon_discount_per_unit  gift_item  dc_ori  \\\n",
       "0                       0.0                       0.0          0       4   \n",
       "1                       0.0                       0.0          0      28   \n",
       "2                       0.0                       0.0          0      28   \n",
       "3                       0.0                       0.0          0       4   \n",
       "4                       0.0                       6.0          0       3   \n",
       "\n",
       "   dc_des  \n",
       "0      28  \n",
       "1      28  \n",
       "2      28  \n",
       "3      28  \n",
       "4      16  "
      ]
     },
     "execution_count": 9,
     "metadata": {},
     "output_type": "execute_result"
    }
   ],
   "source": [
    "order.head()"
   ]
  },
  {
   "cell_type": "code",
   "execution_count": 10,
   "id": "ea7508df",
   "metadata": {},
   "outputs": [
    {
     "data": {
      "text/plain": [
       "Index(['order_ID', 'user_ID', 'sku_ID', 'order_date', 'order_time', 'quantity',\n",
       "       'type', 'promise', 'original_unit_price', 'final_unit_price',\n",
       "       'direct_discount_per_unit', 'quantity_discount_per_unit',\n",
       "       'bundle_discount_per_unit', 'coupon_discount_per_unit', 'gift_item',\n",
       "       'dc_ori', 'dc_des'],\n",
       "      dtype='object')"
      ]
     },
     "execution_count": 10,
     "metadata": {},
     "output_type": "execute_result"
    }
   ],
   "source": [
    "order.columns"
   ]
  },
  {
   "cell_type": "code",
   "execution_count": 11,
   "id": "21f37ba7",
   "metadata": {},
   "outputs": [
    {
     "data": {
      "text/plain": [
       "(549989, 17)"
      ]
     },
     "execution_count": 11,
     "metadata": {},
     "output_type": "execute_result"
    }
   ],
   "source": [
    "order.shape"
   ]
  },
  {
   "cell_type": "code",
   "execution_count": 12,
   "id": "c04a48ac",
   "metadata": {},
   "outputs": [
    {
     "data": {
      "text/plain": [
       "pandas.core.frame.DataFrame"
      ]
     },
     "execution_count": 12,
     "metadata": {},
     "output_type": "execute_result"
    }
   ],
   "source": [
    "type(user)"
   ]
  },
  {
   "cell_type": "code",
   "execution_count": 13,
   "id": "a042101f",
   "metadata": {},
   "outputs": [
    {
     "data": {
      "text/html": [
       "<div>\n",
       "<style scoped>\n",
       "    .dataframe tbody tr th:only-of-type {\n",
       "        vertical-align: middle;\n",
       "    }\n",
       "\n",
       "    .dataframe tbody tr th {\n",
       "        vertical-align: top;\n",
       "    }\n",
       "\n",
       "    .dataframe thead th {\n",
       "        text-align: right;\n",
       "    }\n",
       "</style>\n",
       "<table border=\"1\" class=\"dataframe\">\n",
       "  <thead>\n",
       "    <tr style=\"text-align: right;\">\n",
       "      <th></th>\n",
       "      <th>user_ID</th>\n",
       "      <th>user_level</th>\n",
       "      <th>first_order_month</th>\n",
       "      <th>plus</th>\n",
       "      <th>gender</th>\n",
       "      <th>age</th>\n",
       "      <th>marital_status</th>\n",
       "      <th>education</th>\n",
       "      <th>city_level</th>\n",
       "      <th>purchase_power</th>\n",
       "    </tr>\n",
       "  </thead>\n",
       "  <tbody>\n",
       "    <tr>\n",
       "      <th>0</th>\n",
       "      <td>000089d6a6</td>\n",
       "      <td>1</td>\n",
       "      <td>2017-08</td>\n",
       "      <td>0</td>\n",
       "      <td>F</td>\n",
       "      <td>26-35</td>\n",
       "      <td>S</td>\n",
       "      <td>3</td>\n",
       "      <td>4</td>\n",
       "      <td>3</td>\n",
       "    </tr>\n",
       "    <tr>\n",
       "      <th>1</th>\n",
       "      <td>0000babd1f</td>\n",
       "      <td>1</td>\n",
       "      <td>2018-03</td>\n",
       "      <td>0</td>\n",
       "      <td>U</td>\n",
       "      <td>U</td>\n",
       "      <td>U</td>\n",
       "      <td>-1</td>\n",
       "      <td>-1</td>\n",
       "      <td>-1</td>\n",
       "    </tr>\n",
       "    <tr>\n",
       "      <th>2</th>\n",
       "      <td>0000bc018b</td>\n",
       "      <td>3</td>\n",
       "      <td>2016-06</td>\n",
       "      <td>0</td>\n",
       "      <td>F</td>\n",
       "      <td>&gt;=56</td>\n",
       "      <td>M</td>\n",
       "      <td>3</td>\n",
       "      <td>2</td>\n",
       "      <td>3</td>\n",
       "    </tr>\n",
       "    <tr>\n",
       "      <th>3</th>\n",
       "      <td>0000d0e5ab</td>\n",
       "      <td>3</td>\n",
       "      <td>2014-06</td>\n",
       "      <td>0</td>\n",
       "      <td>M</td>\n",
       "      <td>26-35</td>\n",
       "      <td>M</td>\n",
       "      <td>3</td>\n",
       "      <td>2</td>\n",
       "      <td>2</td>\n",
       "    </tr>\n",
       "    <tr>\n",
       "      <th>4</th>\n",
       "      <td>0000dce472</td>\n",
       "      <td>3</td>\n",
       "      <td>2012-08</td>\n",
       "      <td>1</td>\n",
       "      <td>U</td>\n",
       "      <td>U</td>\n",
       "      <td>U</td>\n",
       "      <td>-1</td>\n",
       "      <td>-1</td>\n",
       "      <td>-1</td>\n",
       "    </tr>\n",
       "  </tbody>\n",
       "</table>\n",
       "</div>"
      ],
      "text/plain": [
       "      user_ID  user_level first_order_month  plus gender    age  \\\n",
       "0  000089d6a6           1           2017-08     0      F  26-35   \n",
       "1  0000babd1f           1           2018-03     0      U      U   \n",
       "2  0000bc018b           3           2016-06     0      F   >=56   \n",
       "3  0000d0e5ab           3           2014-06     0      M  26-35   \n",
       "4  0000dce472           3           2012-08     1      U      U   \n",
       "\n",
       "  marital_status  education  city_level  purchase_power  \n",
       "0              S          3           4               3  \n",
       "1              U         -1          -1              -1  \n",
       "2              M          3           2               3  \n",
       "3              M          3           2               2  \n",
       "4              U         -1          -1              -1  "
      ]
     },
     "execution_count": 13,
     "metadata": {},
     "output_type": "execute_result"
    }
   ],
   "source": [
    "user.head()"
   ]
  },
  {
   "cell_type": "code",
   "execution_count": 14,
   "id": "7d8f28f3",
   "metadata": {},
   "outputs": [
    {
     "data": {
      "text/plain": [
       "Index(['user_ID', 'user_level', 'first_order_month', 'plus', 'gender', 'age',\n",
       "       'marital_status', 'education', 'city_level', 'purchase_power'],\n",
       "      dtype='object')"
      ]
     },
     "execution_count": 14,
     "metadata": {},
     "output_type": "execute_result"
    }
   ],
   "source": [
    "user.columns"
   ]
  },
  {
   "cell_type": "code",
   "execution_count": 15,
   "id": "3f55e6df",
   "metadata": {},
   "outputs": [
    {
     "data": {
      "text/plain": [
       "(457298, 10)"
      ]
     },
     "execution_count": 15,
     "metadata": {},
     "output_type": "execute_result"
    }
   ],
   "source": [
    "user.shape"
   ]
  },
  {
   "cell_type": "markdown",
   "id": "740303fd",
   "metadata": {},
   "source": [
    "4. Check for missing values of columns of each dataframe. You can use sum() (instead of any()) to find out the number of missing values. Which variables have missing values?"
   ]
  },
  {
   "cell_type": "code",
   "execution_count": 16,
   "id": "7c36b60a",
   "metadata": {
    "scrolled": true
   },
   "outputs": [
    {
     "data": {
      "text/plain": [
       "sku_ID                 0\n",
       "type                   0\n",
       "brand_ID               0\n",
       "attribute1             0\n",
       "attribute2             0\n",
       "activate_date      28810\n",
       "deactivate_date    30727\n",
       "dtype: int64"
      ]
     },
     "execution_count": 16,
     "metadata": {},
     "output_type": "execute_result"
    }
   ],
   "source": [
    "sku.isnull().sum()\n",
    "#active_date and deactive date have missing values"
   ]
  },
  {
   "cell_type": "code",
   "execution_count": 17,
   "id": "258f49fe",
   "metadata": {},
   "outputs": [
    {
     "data": {
      "text/plain": [
       "order_ID                      0\n",
       "user_ID                       0\n",
       "sku_ID                        0\n",
       "order_date                    0\n",
       "order_time                    0\n",
       "quantity                      0\n",
       "type                          0\n",
       "promise                       0\n",
       "original_unit_price           0\n",
       "final_unit_price              0\n",
       "direct_discount_per_unit      0\n",
       "quantity_discount_per_unit    0\n",
       "bundle_discount_per_unit      0\n",
       "coupon_discount_per_unit      0\n",
       "gift_item                     0\n",
       "dc_ori                        0\n",
       "dc_des                        0\n",
       "dtype: int64"
      ]
     },
     "execution_count": 17,
     "metadata": {},
     "output_type": "execute_result"
    }
   ],
   "source": [
    "order.isnull().sum()\n",
    "#no missing values"
   ]
  },
  {
   "cell_type": "code",
   "execution_count": 18,
   "id": "5c775a17",
   "metadata": {},
   "outputs": [
    {
     "data": {
      "text/plain": [
       "user_ID              0\n",
       "user_level           0\n",
       "first_order_month    0\n",
       "plus                 0\n",
       "gender               0\n",
       "age                  0\n",
       "marital_status       0\n",
       "education            0\n",
       "city_level           0\n",
       "purchase_power       0\n",
       "dtype: int64"
      ]
     },
     "execution_count": 18,
     "metadata": {},
     "output_type": "execute_result"
    }
   ],
   "source": [
    "user.isnull().sum()\n",
    "#no missing values"
   ]
  },
  {
   "cell_type": "markdown",
   "id": "5d8d5eb8",
   "metadata": {},
   "source": [
    "5. What the percentage of missing values? (Hint: you can call the isnull() method on one variable as well. We have learned how to refer to a variable of a dataset.) Why are they missing? Do we need to do anything?"
   ]
  },
  {
   "cell_type": "code",
   "execution_count": 19,
   "id": "a0377af4",
   "metadata": {},
   "outputs": [
    {
     "name": "stdout",
     "output_type": "stream",
     "text": [
      "sku_ID              0.000000\n",
      "type                0.000000\n",
      "brand_ID            0.000000\n",
      "attribute1          0.000000\n",
      "attribute2          0.000000\n",
      "activate_date      90.404167\n",
      "deactivate_date    96.419606\n",
      "dtype: float64\n"
     ]
    }
   ],
   "source": [
    "sku_missing_values = sku.isnull().sum() * 100 / len(sku)\n",
    "print(sku_missing_values)\n",
    "#active date has 90.404167% and deactivate date has 96.419606% of missing values.\n",
    "#they maybe missing because they are non mandatory fields during the data entry and became mandatory for a \n",
    "#short period of time during March 2018 before becoming non mandatory again.\n",
    "#Since more than 90% of these columns are null values, our best option would be to drop these columns before doing the analysis."
   ]
  },
  {
   "cell_type": "markdown",
   "id": "d8417be7",
   "metadata": {},
   "source": [
    "6. Check the two variables: attribute 1 and attribute 2. What are the unique values for attribute 1 and attribute 2 (Hint: use unique())? What unusual values do you notice? What do you think it means?"
   ]
  },
  {
   "cell_type": "code",
   "execution_count": 20,
   "id": "db6c21e7",
   "metadata": {},
   "outputs": [
    {
     "name": "stdout",
     "output_type": "stream",
     "text": [
      "['3.0' '2.0' '-' '4.0' '1.0']\n"
     ]
    }
   ],
   "source": [
    "attribute1_unique = sku['attribute1'].unique()\n",
    "print(attribute1_unique)\n",
    "# '-' is an unususal values. all the null values have been replaced by '-'."
   ]
  },
  {
   "cell_type": "code",
   "execution_count": 21,
   "id": "5ac817de",
   "metadata": {},
   "outputs": [
    {
     "name": "stdout",
     "output_type": "stream",
     "text": [
      "['60.0' '50.0' '70.0' '-' '100.0' '30.0' '80.0' '40.0' '90.0']\n"
     ]
    }
   ],
   "source": [
    "attribute2_unique = sku['attribute2'].unique()\n",
    "print(attribute2_unique)\n",
    "# '-' is an unususal values. all the null values have been replaced by '-'."
   ]
  },
  {
   "cell_type": "markdown",
   "id": "7f44a1aa",
   "metadata": {},
   "source": [
    "7. How many observations for each value in 'attribute1' and 'attribute2'? What information can you draw from this?"
   ]
  },
  {
   "cell_type": "code",
   "execution_count": 22,
   "id": "ed4221a7",
   "metadata": {},
   "outputs": [
    {
     "name": "stdout",
     "output_type": "stream",
     "text": [
      "Attribute1 Value Counts:\n",
      " -      15961\n",
      "3.0     8351\n",
      "4.0     4252\n",
      "2.0     2491\n",
      "1.0      813\n",
      "Name: attribute1, dtype: int64\n"
     ]
    }
   ],
   "source": [
    "attribute1_counts = sku['attribute1'].value_counts()\n",
    "print(\"Attribute1 Value Counts:\\n\", attribute1_counts)\n",
    "# '-' attribute has the most number of most number of value counts. with almost half of the attribute 1 being null values, it\n",
    "# is better to drop the entire column"
   ]
  },
  {
   "cell_type": "code",
   "execution_count": 23,
   "id": "31df0a4e",
   "metadata": {},
   "outputs": [
    {
     "name": "stdout",
     "output_type": "stream",
     "text": [
      "Attribute2 Value Counts:\n",
      " -        17319\n",
      "100.0     8136\n",
      "60.0      4130\n",
      "50.0       877\n",
      "70.0       473\n",
      "40.0       284\n",
      "80.0       282\n",
      "90.0       186\n",
      "30.0       181\n",
      "Name: attribute2, dtype: int64\n"
     ]
    }
   ],
   "source": [
    "attribute2_counts = sku['attribute2'].value_counts()\n",
    "print(\"Attribute2 Value Counts:\\n\", attribute2_counts)\n",
    "# '-' attribute has the most number of most number of value counts. with almost half of the attribute 2 being null values, it\n",
    "# is better to drop the entire column"
   ]
  },
  {
   "cell_type": "markdown",
   "id": "0df0b8a6",
   "metadata": {},
   "source": [
    "8. Merge sku and order tables, using inner merge. What does inner merge mean? (Hint: you may need to figure out how to use pd.merge() by yourself.) How many observation are there in the merged dataset?"
   ]
  },
  {
   "cell_type": "code",
   "execution_count": 24,
   "id": "f3678054",
   "metadata": {},
   "outputs": [
    {
     "name": "stdout",
     "output_type": "stream",
     "text": [
      "528277\n"
     ]
    }
   ],
   "source": [
    "inner_merged_data = pd.merge(sku, order, on='sku_ID', how='inner')\n",
    "print(len(inner_merged_data))\n",
    "#Inner merge will combine two tables based on a common attribute and will give only the rows that have matching values in both the tables\n",
    "#There are 528277 observations in the inner merged table"
   ]
  },
  {
   "cell_type": "markdown",
   "id": "6b9bbe86",
   "metadata": {},
   "source": [
    "9. Merge sku and order tables, using left merge. What does left merge mean? How many obervations are there in the merged dataset? What does the difference in the number of observations between the two merged datasets (from step 8 and 9) mean (Hint: did all products have purchase)?"
   ]
  },
  {
   "cell_type": "code",
   "execution_count": 25,
   "id": "0c26a7f4",
   "metadata": {},
   "outputs": [
    {
     "name": "stdout",
     "output_type": "stream",
     "text": [
      "551313\n"
     ]
    }
   ],
   "source": [
    "left_merged_data = pd.merge(sku, order, on='sku_ID', how='left')\n",
    "print(len(left_merged_data))\n",
    "#left merge takes all the rows from the left table and add the rows in the right table with matching key ie.sku_ID\n",
    "#There are 551313 observations in the left merged table\n",
    "#the observations in inner merged table are lesser than the observations in left merged table because, \n",
    "#inner merged table only outputs the products that have been ordered and left merged table gives the output of\n",
    "#all the products available"
   ]
  },
  {
   "cell_type": "markdown",
   "id": "71c34250",
   "metadata": {},
   "source": [
    "10. Merge sku and order tables, using right merge. What does right merge mean? How many obervations are there in the merged dataset? What does the difference in the number of observations between the two merged datasets (from step 8 and 10) mean (Hint: did all purchased products have a match in the sku_table)?"
   ]
  },
  {
   "cell_type": "code",
   "execution_count": 26,
   "id": "8f086ba4",
   "metadata": {},
   "outputs": [
    {
     "name": "stdout",
     "output_type": "stream",
     "text": [
      "549989\n"
     ]
    }
   ],
   "source": [
    "right_merged_data = pd.merge(sku, order, on='sku_ID', how='right')\n",
    "print(len(right_merged_data))\n",
    "#right merge takes all the rows from the right table and add the rows in the left table with matching key ie.sku_ID\n",
    "#There are 549989 observations in the left merged table\n",
    "#the observations in inner merged table are lesser than the observations in right merged table because, \n",
    "#inner merged table only outputs the products that have been ordered and right merged table gives the output of\n",
    "#all the orders and the each product can be ordered multiple times."
   ]
  },
  {
   "cell_type": "markdown",
   "id": "b96e04d2",
   "metadata": {},
   "source": [
    "### Assignment 9 starts here. Q11 - Q20."
   ]
  },
  {
   "cell_type": "markdown",
   "id": "5f47c320",
   "metadata": {},
   "source": [
    "We have data preparation work for each table."
   ]
  },
  {
   "cell_type": "markdown",
   "id": "412b9f1d",
   "metadata": {},
   "source": [
    "11. First, the user table. Use info() to display basic information about the table. Check the Dtype column. What is the data type for variable user_level? This data type does not fit our description about this variable: <br>\n",
    "\"taking on a value of 0, 1, 2, 3, or 4, where a higher user_level is associated with a higher total purchase value in the past. For users who are enterprise users (e.g., small shops in rural areas or small businesses), the corresponding\n",
    "user_level takes on a value of 10. However, for first-time purchasers, their user_level takes on\n",
    "the value −1.\" <br>\n",
    "The numbers do not have a numeric meaning, but refer to categories of customers. So, we would like to change the data type to categorical. Please use .astype('string') to change the data type of user_level.<br>\n",
    "You may find similar situation for variables: education, city_level and purchase_power. Change their data type too."
   ]
  },
  {
   "cell_type": "code",
   "execution_count": 27,
   "id": "510c4574",
   "metadata": {},
   "outputs": [
    {
     "name": "stdout",
     "output_type": "stream",
     "text": [
      "<class 'pandas.core.frame.DataFrame'>\n",
      "RangeIndex: 457298 entries, 0 to 457297\n",
      "Data columns (total 10 columns):\n",
      " #   Column             Non-Null Count   Dtype \n",
      "---  ------             --------------   ----- \n",
      " 0   user_ID            457298 non-null  object\n",
      " 1   user_level         457298 non-null  int64 \n",
      " 2   first_order_month  457298 non-null  object\n",
      " 3   plus               457298 non-null  int64 \n",
      " 4   gender             457298 non-null  object\n",
      " 5   age                457298 non-null  object\n",
      " 6   marital_status     457298 non-null  object\n",
      " 7   education          457298 non-null  int64 \n",
      " 8   city_level         457298 non-null  int64 \n",
      " 9   purchase_power     457298 non-null  int64 \n",
      "dtypes: int64(5), object(5)\n",
      "memory usage: 34.9+ MB\n"
     ]
    }
   ],
   "source": [
    "user.info()"
   ]
  },
  {
   "cell_type": "code",
   "execution_count": 28,
   "id": "442fa50f",
   "metadata": {},
   "outputs": [
    {
     "name": "stdout",
     "output_type": "stream",
     "text": [
      "int64\n"
     ]
    }
   ],
   "source": [
    "user_level_dtype = user['user_level'].dtype\n",
    "print(user_level_dtype)"
   ]
  },
  {
   "cell_type": "code",
   "execution_count": 29,
   "id": "91984749",
   "metadata": {},
   "outputs": [],
   "source": [
    "user['user_level'] = user['user_level'].astype('string')"
   ]
  },
  {
   "cell_type": "code",
   "execution_count": 30,
   "id": "ae798501",
   "metadata": {},
   "outputs": [],
   "source": [
    "user['education'] = user['education'].astype('string')"
   ]
  },
  {
   "cell_type": "code",
   "execution_count": 31,
   "id": "97560c86",
   "metadata": {},
   "outputs": [],
   "source": [
    "user['city_level'] = user['city_level'].astype('string')"
   ]
  },
  {
   "cell_type": "code",
   "execution_count": 32,
   "id": "38dee3ba",
   "metadata": {},
   "outputs": [],
   "source": [
    "user['purchase_power'] = user['purchase_power'].astype('string')"
   ]
  },
  {
   "cell_type": "code",
   "execution_count": 33,
   "id": "798ebdee",
   "metadata": {},
   "outputs": [
    {
     "name": "stdout",
     "output_type": "stream",
     "text": [
      "string\n"
     ]
    }
   ],
   "source": [
    "user_level_dtype = user['user_level'].dtype\n",
    "print(user_level_dtype)"
   ]
  },
  {
   "cell_type": "code",
   "execution_count": 34,
   "id": "295e03cc",
   "metadata": {},
   "outputs": [
    {
     "name": "stdout",
     "output_type": "stream",
     "text": [
      "string\n"
     ]
    }
   ],
   "source": [
    "education_dtype = user['education'].dtype\n",
    "print(user_level_dtype)"
   ]
  },
  {
   "cell_type": "markdown",
   "id": "981de815",
   "metadata": {},
   "source": [
    "12. 1) The meaning of '-1' for user_level is new customer. We will replace '-1' with 'New'."
   ]
  },
  {
   "cell_type": "code",
   "execution_count": 35,
   "id": "928a370a",
   "metadata": {},
   "outputs": [],
   "source": [
    "user['user_level'] = user['user_level'].replace('-1', 'New')"
   ]
  },
  {
   "cell_type": "code",
   "execution_count": 36,
   "id": "d832d3a6",
   "metadata": {},
   "outputs": [
    {
     "name": "stdout",
     "output_type": "stream",
     "text": [
      "<StringArray>\n",
      "['1', '3', '4', '2', 'New', '10', '0']\n",
      "Length: 7, dtype: string\n"
     ]
    }
   ],
   "source": [
    "print(user['user_level'].unique())"
   ]
  },
  {
   "cell_type": "markdown",
   "id": "7d690477",
   "metadata": {},
   "source": [
    "2) The meaning of '-1' in education, city_level and purchase_power is missing values. We will replace it with 'U', as missing value indicator of other variables like 'age', 'gender', etc."
   ]
  },
  {
   "cell_type": "code",
   "execution_count": 37,
   "id": "1160a43b",
   "metadata": {},
   "outputs": [],
   "source": [
    "user['education'] = user['education'].replace('-1', 'U')"
   ]
  },
  {
   "cell_type": "code",
   "execution_count": 38,
   "id": "416f0bd1",
   "metadata": {},
   "outputs": [],
   "source": [
    "user['city_level'] = user['city_level'].replace('-1', 'U')"
   ]
  },
  {
   "cell_type": "code",
   "execution_count": 39,
   "id": "5a59b109",
   "metadata": {},
   "outputs": [],
   "source": [
    "user['purchase_power'] = user['purchase_power'].replace('-1', 'U')"
   ]
  },
  {
   "cell_type": "markdown",
   "id": "cefa551e",
   "metadata": {},
   "source": [
    "13. Change the first_order_month to Timestamp data type. Based on this variable, we can calculate the tenure of the user on JD.com. The calculation is: (2018 - year of the first order) * 12 + (3 - month of the first order). Create a new variable 'tenure' to hold the value. You can treat variables as if it was a single number for the calculation. For instance, (states['population']/1000 - 1000000). Hint: we have shown how to get month or year from a Timestamp variable."
   ]
  },
  {
   "cell_type": "code",
   "execution_count": 40,
   "id": "239a8b4a",
   "metadata": {},
   "outputs": [],
   "source": [
    "user['first_order_month'] = pd.to_datetime(user['first_order_month'])"
   ]
  },
  {
   "cell_type": "code",
   "execution_count": 41,
   "id": "db0d5126",
   "metadata": {},
   "outputs": [],
   "source": [
    "user['tenure'] = (2018 - user['first_order_month'].dt.year) * 12 + (3 - user['first_order_month'].dt.month)\n"
   ]
  },
  {
   "cell_type": "code",
   "execution_count": 42,
   "id": "2c9d12cc",
   "metadata": {},
   "outputs": [
    {
     "name": "stdout",
     "output_type": "stream",
     "text": [
      "0          7\n",
      "1          0\n",
      "2         21\n",
      "3         45\n",
      "4         67\n",
      "          ..\n",
      "457293     0\n",
      "457294    78\n",
      "457295     4\n",
      "457296    23\n",
      "457297     5\n",
      "Name: tenure, Length: 457298, dtype: int64\n"
     ]
    }
   ],
   "source": [
    "print(user['tenure'])"
   ]
  },
  {
   "cell_type": "markdown",
   "id": "617c38b0",
   "metadata": {},
   "source": [
    "14. For the order table, we need to process the two datetime variables as well. First change them to Timestamp data type. Get the day of the month from the order_date and save it to a new variable 'day'. Get the hour of the order_time and save it to a new variable 'hour'."
   ]
  },
  {
   "cell_type": "code",
   "execution_count": 43,
   "id": "52f3bec5",
   "metadata": {},
   "outputs": [],
   "source": [
    "order['order_date'] = pd.to_datetime(order['order_date'])\n"
   ]
  },
  {
   "cell_type": "code",
   "execution_count": 44,
   "id": "e059cb0d",
   "metadata": {},
   "outputs": [],
   "source": [
    "order['order_time'] = pd.to_datetime(order['order_time'])\n"
   ]
  },
  {
   "cell_type": "code",
   "execution_count": 45,
   "id": "6c58b176",
   "metadata": {},
   "outputs": [],
   "source": [
    "order['day'] = order['order_date'].dt.day"
   ]
  },
  {
   "cell_type": "code",
   "execution_count": 46,
   "id": "16c73968",
   "metadata": {},
   "outputs": [],
   "source": [
    "order['hour'] = order['order_time'].dt.hour"
   ]
  },
  {
   "cell_type": "code",
   "execution_count": 47,
   "id": "370e45ea",
   "metadata": {},
   "outputs": [
    {
     "name": "stdout",
     "output_type": "stream",
     "text": [
      "          order_ID     user_ID      sku_ID order_date          order_time  \\\n",
      "0       d0cf5cc6db  0abe9ef2ce  581d5b54c1 2018-03-01 2018-03-01 17:14:25   \n",
      "1       7444318d01  33a9e56257  067b673f2b 2018-03-01 2018-03-01 11:10:40   \n",
      "2       f973b01694  4ea3cf408f  623d0a582a 2018-03-01 2018-03-01 09:13:26   \n",
      "3       8c1cec8d4b  b87cb736cb  fc5289b139 2018-03-01 2018-03-01 21:29:50   \n",
      "4       d43a33c38a  4829223b6f  623d0a582a 2018-03-01 2018-03-01 19:13:37   \n",
      "...            ...         ...         ...        ...                 ...   \n",
      "549984  3ad06b9fbe  a27b3ed4d4  a9109972d1 2018-03-31 2018-03-31 01:22:47   \n",
      "549985  c9d77a7ed0  18f92434cd  7f53769d3f 2018-03-31 2018-03-31 08:55:57   \n",
      "549986  b9ad79338f  b5caf8a580  8dc4a01dec 2018-03-31 2018-03-31 13:31:01   \n",
      "549987  be3a9414b1  20ba6655f3  2dd6b818ec 2018-03-31 2018-03-31 12:51:18   \n",
      "549988  02d31f05c9  f260895cbe  10d369ef96 2018-03-31 2018-03-31 18:21:16   \n",
      "\n",
      "        quantity  type promise  original_unit_price  final_unit_price  \\\n",
      "0              1     2       -                 89.0              79.0   \n",
      "1              1     1       2                 99.9              53.9   \n",
      "2              1     1       2                 78.0              58.5   \n",
      "3              1     1       2                 61.0              35.0   \n",
      "4              1     1       1                 78.0              53.0   \n",
      "...          ...   ...     ...                  ...               ...   \n",
      "549984         1     2       -                  0.0              -1.0   \n",
      "549985         1     1       3                118.0              55.0   \n",
      "549986         1     1       2                 78.0              78.0   \n",
      "549987         1     2       -                189.0              78.0   \n",
      "549988         1     2       4                 68.0              49.0   \n",
      "\n",
      "        direct_discount_per_unit  quantity_discount_per_unit  \\\n",
      "0                            0.0                        10.0   \n",
      "1                            5.0                        41.0   \n",
      "2                           19.5                         0.0   \n",
      "3                            0.0                        26.0   \n",
      "4                           19.0                         0.0   \n",
      "...                          ...                         ...   \n",
      "549984                       0.0                         0.0   \n",
      "549985                      63.0                         0.0   \n",
      "549986                       0.0                         0.0   \n",
      "549987                     111.0                         0.0   \n",
      "549988                      19.0                         0.0   \n",
      "\n",
      "        bundle_discount_per_unit  coupon_discount_per_unit  gift_item  dc_ori  \\\n",
      "0                            0.0                       0.0          0       4   \n",
      "1                            0.0                       0.0          0      28   \n",
      "2                            0.0                       0.0          0      28   \n",
      "3                            0.0                       0.0          0       4   \n",
      "4                            0.0                       6.0          0       3   \n",
      "...                          ...                       ...        ...     ...   \n",
      "549984                       0.0                       1.0          1       2   \n",
      "549985                       0.0                       0.0          0      59   \n",
      "549986                       0.0                       0.0          0       2   \n",
      "549987                       0.0                       0.0          0       4   \n",
      "549988                       0.0                       0.0          0       4   \n",
      "\n",
      "        dc_des  day  hour  \n",
      "0           28    1    17  \n",
      "1           28    1    11  \n",
      "2           28    1     9  \n",
      "3           28    1    21  \n",
      "4           16    1    19  \n",
      "...        ...  ...   ...  \n",
      "549984       2   31     1  \n",
      "549985       2   31     8  \n",
      "549986       2   31    13  \n",
      "549987      28   31    12  \n",
      "549988      28   31    18  \n",
      "\n",
      "[549989 rows x 19 columns]\n"
     ]
    }
   ],
   "source": [
    "print(order)"
   ]
  },
  {
   "cell_type": "markdown",
   "id": "11d6ed80",
   "metadata": {},
   "source": [
    "15. Find the orders where gift_item equals to 1 (use filtering). What do you find about the orignal_unit_price and final_unit_price in the filtered dataset? Do we consider the 0 price as data errors?"
   ]
  },
  {
   "cell_type": "code",
   "execution_count": 48,
   "id": "0e177d92",
   "metadata": {
    "scrolled": true
   },
   "outputs": [],
   "source": [
    "filtered_orders = order[order['gift_item'] == 1]"
   ]
  },
  {
   "cell_type": "code",
   "execution_count": 49,
   "id": "52bb8cf8",
   "metadata": {},
   "outputs": [],
   "source": [
    "original_unit_price = filtered_orders['original_unit_price']"
   ]
  },
  {
   "cell_type": "code",
   "execution_count": 50,
   "id": "5edcc4f3",
   "metadata": {},
   "outputs": [],
   "source": [
    "final_unit_price = filtered_orders['final_unit_price']"
   ]
  },
  {
   "cell_type": "code",
   "execution_count": 51,
   "id": "6f79e77c",
   "metadata": {},
   "outputs": [
    {
     "name": "stdout",
     "output_type": "stream",
     "text": [
      "count    94606.000000\n",
      "mean         0.004334\n",
      "std          0.544303\n",
      "min          0.000000\n",
      "25%          0.000000\n",
      "50%          0.000000\n",
      "75%          0.000000\n",
      "max         69.000000\n",
      "Name: original_unit_price, dtype: float64\n"
     ]
    }
   ],
   "source": [
    "print(original_unit_price.describe())\n",
    "# since these are gifts, the price is supposed be 0 and the entries that are not zero are either mistakenly entered or \n",
    "#a discont has been given on them instead of them being free"
   ]
  },
  {
   "cell_type": "code",
   "execution_count": 52,
   "id": "a63eec6a",
   "metadata": {},
   "outputs": [
    {
     "name": "stdout",
     "output_type": "stream",
     "text": [
      "count    94606.000000\n",
      "mean        -0.215242\n",
      "std          1.109574\n",
      "min        -32.000000\n",
      "25%          0.000000\n",
      "50%          0.000000\n",
      "75%          0.000000\n",
      "max          0.000000\n",
      "Name: final_unit_price, dtype: float64\n"
     ]
    }
   ],
   "source": [
    "print(final_unit_price.describe())\n",
    "# since these are gifts, the price is supposed be 0 and the entries that are not zero are either mistakenly entered or \n",
    "#a discont has been given on them instead of them being free"
   ]
  },
  {
   "cell_type": "code",
   "execution_count": 53,
   "id": "e7fb1290",
   "metadata": {},
   "outputs": [
    {
     "name": "stdout",
     "output_type": "stream",
     "text": [
      "          order_ID     user_ID      sku_ID order_date          order_time  \\\n",
      "6       89286e5fd9  79154d0001  6717b7c979 2018-03-01 2018-03-01 22:18:41   \n",
      "10      9c65b6264b  2021a86702  d3e31fdd6e 2018-03-01 2018-03-01 00:12:07   \n",
      "23      8b71aa6716  9bb8b4c04f  a0e49f9966 2018-03-01 2018-03-01 22:08:44   \n",
      "25      67b8f778f6  53dc20e68d  a0e49f9966 2018-03-01 2018-03-01 23:17:02   \n",
      "26      67b8f778f6  53dc20e68d  c98d32ff09 2018-03-01 2018-03-01 23:17:02   \n",
      "...            ...         ...         ...        ...                 ...   \n",
      "549939  6d882e746d  227f7204e8  cfe58e6b7f 2018-03-31 2018-03-31 06:03:08   \n",
      "549980  a7c31a6da3  ecc9f60096  a9109972d1 2018-03-31 2018-03-31 21:02:09   \n",
      "549981  ac748a8701  dbbace058c  a9109972d1 2018-03-31 2018-03-31 11:30:16   \n",
      "549983  9fa0694b3b  39933e9bc6  767ac490ed 2018-03-31 2018-03-31 19:51:43   \n",
      "549984  3ad06b9fbe  a27b3ed4d4  a9109972d1 2018-03-31 2018-03-31 01:22:47   \n",
      "\n",
      "        quantity  type promise  original_unit_price  final_unit_price  \\\n",
      "6              1     1       1                  0.0               0.0   \n",
      "10             2     1       1                  0.0               0.0   \n",
      "23             1     1       1                  0.0               0.0   \n",
      "25             1     1       1                  0.0               0.0   \n",
      "26             1     1       1                  0.0               0.0   \n",
      "...          ...   ...     ...                  ...               ...   \n",
      "549939         2     2       -                  0.0               0.0   \n",
      "549980         1     2       -                  0.0              -3.0   \n",
      "549981         1     2       -                  0.0               0.0   \n",
      "549983         1     1       2                  0.0              -1.0   \n",
      "549984         1     2       -                  0.0              -1.0   \n",
      "\n",
      "        direct_discount_per_unit  quantity_discount_per_unit  \\\n",
      "6                            0.0                         0.0   \n",
      "10                           0.0                         0.0   \n",
      "23                           0.0                         0.0   \n",
      "25                           0.0                         0.0   \n",
      "26                           0.0                         0.0   \n",
      "...                          ...                         ...   \n",
      "549939                       0.0                         0.0   \n",
      "549980                       0.0                         3.0   \n",
      "549981                       0.0                         0.0   \n",
      "549983                       0.0                         1.0   \n",
      "549984                       0.0                         0.0   \n",
      "\n",
      "        bundle_discount_per_unit  coupon_discount_per_unit  gift_item  dc_ori  \\\n",
      "6                            0.0                       0.0          1       3   \n",
      "10                           0.0                       0.0          1       3   \n",
      "23                           0.0                       0.0          1       3   \n",
      "25                           0.0                       0.0          1       3   \n",
      "26                           0.0                       0.0          1       3   \n",
      "...                          ...                       ...        ...     ...   \n",
      "549939                       0.0                       0.0          1       2   \n",
      "549980                       0.0                       0.0          1       2   \n",
      "549981                       0.0                       0.0          1       2   \n",
      "549983                       0.0                       0.0          1       2   \n",
      "549984                       0.0                       1.0          1       2   \n",
      "\n",
      "        dc_des  day  hour  \n",
      "6           16    1    22  \n",
      "10          16    1     0  \n",
      "23          16    1    22  \n",
      "25          16    1    23  \n",
      "26          16    1    23  \n",
      "...        ...  ...   ...  \n",
      "549939       2   31     6  \n",
      "549980       2   31    21  \n",
      "549981       2   31    11  \n",
      "549983       2   31    19  \n",
      "549984       2   31     1  \n",
      "\n",
      "[94606 rows x 19 columns]\n"
     ]
    }
   ],
   "source": [
    "print(filtered_orders)"
   ]
  },
  {
   "cell_type": "markdown",
   "id": "5773699d",
   "metadata": {},
   "source": [
    "16. Find the users whose: 1) Age between 36 - 45; 2) married; 3) female. "
   ]
  },
  {
   "cell_type": "code",
   "execution_count": 54,
   "id": "9e7761bd",
   "metadata": {},
   "outputs": [
    {
     "name": "stdout",
     "output_type": "stream",
     "text": [
      "           user_ID user_level first_order_month  plus gender    age  \\\n",
      "8       0001aa7059          4        2014-06-01     0      F  36-45   \n",
      "10      0001dc70f4          4        2012-04-01     1      F  36-45   \n",
      "12      00020f8411          1        2016-11-01     0      F  36-45   \n",
      "24      00050811e9          4        2011-11-01     1      M  36-45   \n",
      "34      00074309ac          1        2018-03-01     0      F  36-45   \n",
      "...            ...        ...               ...   ...    ...    ...   \n",
      "457281  fffe15f2c8          4        2015-11-01     0      F  36-45   \n",
      "457282  fffe2e5dd6          3        2011-04-01     0      M  36-45   \n",
      "457284  fffe8dd91f          2        2015-02-01     0      M  36-45   \n",
      "457285  fffece9f0b          1        2018-03-01     0      F  36-45   \n",
      "457295  ffffb20ef7          3        2017-11-01     0      M  36-45   \n",
      "\n",
      "       marital_status education city_level purchase_power  tenure  \n",
      "8                   M         3          4              2      45  \n",
      "10                  M         4          2              2      71  \n",
      "12                  M         U          4              U      16  \n",
      "24                  M         4          2              2      76  \n",
      "34                  S         3          1              2       0  \n",
      "...               ...       ...        ...            ...     ...  \n",
      "457281              M         3          2              2      28  \n",
      "457282              M         3          1              2      83  \n",
      "457284              M         3          2              2      37  \n",
      "457285              M         3          4              2       0  \n",
      "457295              M         2          4              2       4  \n",
      "\n",
      "[81076 rows x 11 columns]\n"
     ]
    }
   ],
   "source": [
    "filtered_users_age = user[(user['age'] == '36-45')]\n",
    "print(filtered_users_age)"
   ]
  },
  {
   "cell_type": "code",
   "execution_count": 55,
   "id": "b2f92829",
   "metadata": {},
   "outputs": [
    {
     "name": "stdout",
     "output_type": "stream",
     "text": [
      "           user_ID user_level first_order_month  plus gender    age  \\\n",
      "2       0000bc018b          3        2016-06-01     0      F   >=56   \n",
      "3       0000d0e5ab          3        2014-06-01     0      M  26-35   \n",
      "5       0000f81d1b          1        2018-02-01     0      F  26-35   \n",
      "6       00012bb423          4        2008-11-01     1      F  26-35   \n",
      "7       00015ff032          3        2015-06-01     1      M  26-35   \n",
      "...            ...        ...               ...   ...    ...    ...   \n",
      "457286  fffedbb471          3        2016-10-01     0      F  46-55   \n",
      "457291  ffff0b5ecd          1        2017-06-01     0      F  26-35   \n",
      "457295  ffffb20ef7          3        2017-11-01     0      M  36-45   \n",
      "457296  ffffc45330          1        2016-04-01     0      F  26-35   \n",
      "457297  ffffe74cfb          1        2017-10-01     0      M  26-35   \n",
      "\n",
      "       marital_status education city_level purchase_power  tenure  \n",
      "2                   M         3          2              3      21  \n",
      "3                   M         3          2              2      45  \n",
      "5                   M         2          3              2       1  \n",
      "6                   M         4          1              2     112  \n",
      "7                   M         3          4              1      33  \n",
      "...               ...       ...        ...            ...     ...  \n",
      "457286              M         3          1              3      17  \n",
      "457291              M         3          2              3       9  \n",
      "457295              M         2          4              2       4  \n",
      "457296              M         U          U              U      23  \n",
      "457297              M         U          3              3       5  \n",
      "\n",
      "[183437 rows x 11 columns]\n"
     ]
    }
   ],
   "source": [
    "filtered_users_married = user[(user['marital_status'] == 'M')]\n",
    "print(filtered_users_married)"
   ]
  },
  {
   "cell_type": "code",
   "execution_count": 56,
   "id": "3069c9b6",
   "metadata": {},
   "outputs": [
    {
     "name": "stdout",
     "output_type": "stream",
     "text": [
      "           user_ID user_level first_order_month  plus gender    age  \\\n",
      "0       000089d6a6          1        2017-08-01     0      F  26-35   \n",
      "2       0000bc018b          3        2016-06-01     0      F   >=56   \n",
      "5       0000f81d1b          1        2018-02-01     0      F  26-35   \n",
      "6       00012bb423          4        2008-11-01     1      F  26-35   \n",
      "8       0001aa7059          4        2014-06-01     0      F  36-45   \n",
      "...            ...        ...               ...   ...    ...    ...   \n",
      "457287  fffee3a17c          1        2015-11-01     0      F  46-55   \n",
      "457290  ffff03373a          2        2017-02-01     0      F  16-25   \n",
      "457291  ffff0b5ecd          1        2017-06-01     0      F  26-35   \n",
      "457292  ffff2284c2          2        2015-02-01     0      F  26-35   \n",
      "457296  ffffc45330          1        2016-04-01     0      F  26-35   \n",
      "\n",
      "       marital_status education city_level purchase_power  tenure  \n",
      "0                   S         3          4              3       7  \n",
      "2                   M         3          2              3      21  \n",
      "5                   M         2          3              2       1  \n",
      "6                   M         4          1              2     112  \n",
      "8                   M         3          4              2      45  \n",
      "...               ...       ...        ...            ...     ...  \n",
      "457287              U         U          2              U      28  \n",
      "457290              S         3          U              2      13  \n",
      "457291              M         3          2              3       9  \n",
      "457292              S         3          3              3      37  \n",
      "457296              M         U          U              U      23  \n",
      "\n",
      "[292897 rows x 11 columns]\n"
     ]
    }
   ],
   "source": [
    "filtered_users_female = user[(user['gender'] == 'F')]\n",
    "print(filtered_users_female)"
   ]
  },
  {
   "cell_type": "markdown",
   "id": "b7f3a034",
   "metadata": {},
   "source": [
    "17. Filter the orders of a product (sku: '623d0a582a') on '2018-3-1'. Calculate the sales. Hint: we can multiply the quantity and final price columns together. The outcome will be a pandas series. The sum of the series will be the total sales. ) "
   ]
  },
  {
   "cell_type": "code",
   "execution_count": 57,
   "id": "37bedc39",
   "metadata": {},
   "outputs": [],
   "source": [
    "filtered_orders = order[(order['sku_ID'] == '623d0a582a') & (order['order_date'] == '2018-3-1')]"
   ]
  },
  {
   "cell_type": "code",
   "execution_count": 58,
   "id": "7f8b94d1",
   "metadata": {},
   "outputs": [
    {
     "name": "stderr",
     "output_type": "stream",
     "text": [
      "C:\\Users\\kjs\\AppData\\Local\\Temp\\ipykernel_30332\\3069431306.py:1: SettingWithCopyWarning: \n",
      "A value is trying to be set on a copy of a slice from a DataFrame.\n",
      "Try using .loc[row_indexer,col_indexer] = value instead\n",
      "\n",
      "See the caveats in the documentation: https://pandas.pydata.org/pandas-docs/stable/user_guide/indexing.html#returning-a-view-versus-a-copy\n",
      "  filtered_orders['sales'] = filtered_orders['quantity'] * filtered_orders['final_unit_price']\n"
     ]
    }
   ],
   "source": [
    "filtered_orders['sales'] = filtered_orders['quantity'] * filtered_orders['final_unit_price']"
   ]
  },
  {
   "cell_type": "code",
   "execution_count": 59,
   "id": "75581c18",
   "metadata": {},
   "outputs": [],
   "source": [
    "total_sales = filtered_orders['sales'].sum()"
   ]
  },
  {
   "cell_type": "code",
   "execution_count": 60,
   "id": "f666c168",
   "metadata": {},
   "outputs": [
    {
     "name": "stdout",
     "output_type": "stream",
     "text": [
      "168742.3\n"
     ]
    }
   ],
   "source": [
    "print(total_sales)"
   ]
  },
  {
   "cell_type": "markdown",
   "id": "47f41059",
   "metadata": {},
   "source": [
    "18. Group the users by age and education and find their average tenure (the variable we created in Q13) on JD.com. What do you find about tenure and education level?"
   ]
  },
  {
   "cell_type": "code",
   "execution_count": 61,
   "id": "74d31e31",
   "metadata": {},
   "outputs": [
    {
     "name": "stdout",
     "output_type": "stream",
     "text": [
      "      age education     tenure\n",
      "0   16-25         1  14.103391\n",
      "1   16-25         2  17.335066\n",
      "2   16-25         3  20.364415\n",
      "3   16-25         4  37.494766\n",
      "4   16-25         U   5.778428\n",
      "5   26-35         1  17.050121\n",
      "6   26-35         2  22.559180\n",
      "7   26-35         3  38.359696\n",
      "8   26-35         4  64.473971\n",
      "9   26-35         U   7.901024\n",
      "10  36-45         1  16.050086\n",
      "11  36-45         2  20.494666\n",
      "12  36-45         3  41.709305\n",
      "13  36-45         4  71.972336\n",
      "14  36-45         U   6.474908\n",
      "15  46-55         1  16.094891\n",
      "16  46-55         2  20.295165\n",
      "17  46-55         3  38.247929\n",
      "18  46-55         4  66.955529\n",
      "19  46-55         U   4.364588\n",
      "20   <=15         1   5.000000\n",
      "21   <=15         2  18.000000\n",
      "22   <=15         3  22.615385\n",
      "23   <=15         4  76.333333\n",
      "24   <=15         U   3.000000\n",
      "25   >=56         1  14.903915\n",
      "26   >=56         2  18.767823\n",
      "27   >=56         3  34.623609\n",
      "28   >=56         4  59.589888\n",
      "29   >=56         U   3.336470\n",
      "30      U         U  20.665781\n"
     ]
    }
   ],
   "source": [
    "grouped_users = user.groupby(['age', 'education']).mean(numeric_only=True)\n",
    "grouped_users = grouped_users.reset_index()\n",
    "print(grouped_users[['age', 'education', 'tenure']])\n"
   ]
  },
  {
   "cell_type": "markdown",
   "id": "607f416f",
   "metadata": {},
   "source": [
    "19. Group by the origin distribution center and the destination center and sum the quantity for each group. We can observe the traffic between distribution centers from this result."
   ]
  },
  {
   "cell_type": "code",
   "execution_count": 62,
   "id": "6beaa5ac",
   "metadata": {
    "scrolled": true
   },
   "outputs": [
    {
     "name": "stdout",
     "output_type": "stream",
     "text": [
      "     dc_ori  dc_des  quantity\n",
      "0         1       1       542\n",
      "1         1      18         1\n",
      "2         1      31         9\n",
      "3         1      39        25\n",
      "4         1      46         1\n",
      "..      ...     ...       ...\n",
      "623      65      60         4\n",
      "624      65      61         2\n",
      "625      65      64        16\n",
      "626      66      20       147\n",
      "627      67      67       528\n",
      "\n",
      "[628 rows x 3 columns]\n"
     ]
    }
   ],
   "source": [
    "grouped_orders = order.groupby(['dc_ori', 'dc_des']).sum(numeric_only=True)['quantity']\n",
    "grouped_orders = grouped_orders.reset_index()\n",
    "print(grouped_orders)"
   ]
  },
  {
   "cell_type": "markdown",
   "id": "8564c8a0",
   "metadata": {},
   "source": [
    "20. Create a pivot table that counts the customers based on their user_level and education."
   ]
  },
  {
   "cell_type": "code",
   "execution_count": 63,
   "id": "934d9dd8",
   "metadata": {},
   "outputs": [
    {
     "name": "stdout",
     "output_type": "stream",
     "text": [
      "                      user_ID\n",
      "user_level education         \n",
      "0          2                7\n",
      "           3                8\n",
      "           4                1\n",
      "           U              145\n",
      "1          1             3001\n",
      "           2            24182\n",
      "           3            35486\n",
      "           4              369\n",
      "           U            66391\n",
      "10         2                2\n",
      "           3                6\n",
      "           4                3\n",
      "           U             1005\n",
      "2          1             3270\n",
      "           2            32953\n",
      "           3            75907\n",
      "           4             1419\n",
      "           U            28310\n",
      "3          1             1260\n",
      "           2            13418\n",
      "           3            68944\n",
      "           4             4979\n",
      "           U             8201\n",
      "4          1              629\n",
      "           2             3606\n",
      "           3            37548\n",
      "           4            39922\n",
      "           U             4023\n",
      "New        3                9\n",
      "           U             2294\n"
     ]
    }
   ],
   "source": [
    "pivot_table = user.pivot_table(index=['user_level', 'education'], values='user_ID', aggfunc='count')\n",
    "print(pivot_table)"
   ]
  },
  {
   "cell_type": "markdown",
   "id": "5f87e3ec",
   "metadata": {},
   "source": [
    "### Assignment 10 starts here. Q21-Q30.\n",
    "We now further explore the data, especially with graphs. We do not require formatting details of graph. The basics are enough."
   ]
  },
  {
   "cell_type": "markdown",
   "id": "6b9f16d9",
   "metadata": {},
   "source": [
    "21. Let's start from the product table. Make a bar graph to examine the distribution of 'attribute1' and similarly for 'attribute2'. What do you observe?"
   ]
  },
  {
   "cell_type": "code",
   "execution_count": 64,
   "id": "67b1196a",
   "metadata": {},
   "outputs": [
    {
     "data": {
      "text/plain": [
       "<Axes: >"
      ]
     },
     "execution_count": 64,
     "metadata": {},
     "output_type": "execute_result"
    },
    {
     "data": {
      "text/plain": [
       "Text(0.5, 1.0, 'Distribution of Attribute1')"
      ]
     },
     "execution_count": 64,
     "metadata": {},
     "output_type": "execute_result"
    },
    {
     "data": {
      "text/plain": [
       "Text(0.5, 0, 'Attribute1 Values')"
      ]
     },
     "execution_count": 64,
     "metadata": {},
     "output_type": "execute_result"
    },
    {
     "data": {
      "text/plain": [
       "Text(0, 0.5, 'Count')"
      ]
     },
     "execution_count": 64,
     "metadata": {},
     "output_type": "execute_result"
    },
    {
     "data": {
      "image/png": "[encoded data removed]",
      "text/plain": [
       "<Figure size 640x480 with 1 Axes>"
      ]
     },
     "metadata": {},
     "output_type": "display_data"
    },
    {
     "data": {
      "text/plain": [
       "<Axes: >"
      ]
     },
     "execution_count": 64,
     "metadata": {},
     "output_type": "execute_result"
    },
    {
     "data": {
      "text/plain": [
       "Text(0.5, 1.0, 'Distribution of Attribute2')"
      ]
     },
     "execution_count": 64,
     "metadata": {},
     "output_type": "execute_result"
    },
    {
     "data": {
      "text/plain": [
       "Text(0.5, 0, 'Attribute2 Values')"
      ]
     },
     "execution_count": 64,
     "metadata": {},
     "output_type": "execute_result"
    },
    {
     "data": {
      "text/plain": [
       "Text(0, 0.5, 'Count')"
      ]
     },
     "execution_count": 64,
     "metadata": {},
     "output_type": "execute_result"
    },
    {
     "data": {
      "image/png": "[encoded data removed]",
      "text/plain": [
       "<Figure size 640x480 with 1 Axes>"
      ]
     },
     "metadata": {},
     "output_type": "display_data"
    }
   ],
   "source": [
    "sku['attribute1'].value_counts().plot(kind='bar')\n",
    "plt.title(\"Distribution of Attribute1\")\n",
    "plt.xlabel(\"Attribute1 Values\")\n",
    "plt.ylabel(\"Count\")\n",
    "plt.show()\n",
    "sku['attribute2'].value_counts().plot(kind='bar')\n",
    "plt.title(\"Distribution of Attribute2\")\n",
    "plt.xlabel(\"Attribute2 Values\")\n",
    "plt.ylabel(\"Count\")\n",
    "plt.show()\n",
    "#From these bar charts, we can say that the attribute 1 values are smaller than attribute 2 values and almost 50% \n",
    "#of the values in these columns are null"
   ]
  },
  {
   "cell_type": "markdown",
   "id": "0cc70ddd",
   "metadata": {},
   "source": [
    "22. What is the distribution of product type (1P vs 3P)? Show with a graph. What do you observe?"
   ]
  },
  {
   "cell_type": "code",
   "execution_count": 65,
   "id": "05042d06",
   "metadata": {},
   "outputs": [
    {
     "data": {
      "text/plain": [
       "<Axes: >"
      ]
     },
     "execution_count": 65,
     "metadata": {},
     "output_type": "execute_result"
    },
    {
     "data": {
      "text/plain": [
       "Text(0.5, 1.0, 'Distribution of Type in SKU Table')"
      ]
     },
     "execution_count": 65,
     "metadata": {},
     "output_type": "execute_result"
    },
    {
     "data": {
      "text/plain": [
       "Text(0.5, 0, 'Type')"
      ]
     },
     "execution_count": 65,
     "metadata": {},
     "output_type": "execute_result"
    },
    {
     "data": {
      "text/plain": [
       "Text(0, 0.5, 'Count')"
      ]
     },
     "execution_count": 65,
     "metadata": {},
     "output_type": "execute_result"
    },
    {
     "data": {
      "image/png": "[encoded data removed]",
      "text/plain": [
       "<Figure size 640x480 with 1 Axes>"
      ]
     },
     "metadata": {},
     "output_type": "display_data"
    }
   ],
   "source": [
    "sku['type'].value_counts().plot(kind='bar')\n",
    "plt.title(\"Distribution of Type in SKU Table\")\n",
    "plt.xlabel(\"Type\")\n",
    "plt.ylabel(\"Count\")\n",
    "plt.show()"
   ]
  },
  {
   "cell_type": "markdown",
   "id": "c42dd2fb",
   "metadata": {},
   "source": [
    "23. Let's move to the user table. Almost all user features are categorical variables. Make bar graphs to examine the distribution of \"user_level', 'plus', 'gender', 'age', 'marital_status', 'education', 'city_level', and 'purchase_power'. You may consider using a loop. Based on the graphs, you may answer questions like these:\n",
    " 1. What is the education level of the majority?\n",
    " 2. Which age level has the most users?"
   ]
  },
  {
   "cell_type": "code",
   "execution_count": 66,
   "id": "62f63191",
   "metadata": {},
   "outputs": [
    {
     "data": {
      "text/plain": [
       "<Axes: >"
      ]
     },
     "execution_count": 66,
     "metadata": {},
     "output_type": "execute_result"
    },
    {
     "data": {
      "text/plain": [
       "Text(0.5, 1.0, 'Distribution of user_level in User Table')"
      ]
     },
     "execution_count": 66,
     "metadata": {},
     "output_type": "execute_result"
    },
    {
     "data": {
      "text/plain": [
       "Text(0.5, 0, 'user_level')"
      ]
     },
     "execution_count": 66,
     "metadata": {},
     "output_type": "execute_result"
    },
    {
     "data": {
      "text/plain": [
       "Text(0, 0.5, 'Count')"
      ]
     },
     "execution_count": 66,
     "metadata": {},
     "output_type": "execute_result"
    },
    {
     "data": {
      "image/png": "[encoded data removed]",
      "text/plain": [
       "<Figure size 640x480 with 1 Axes>"
      ]
     },
     "metadata": {},
     "output_type": "display_data"
    },
    {
     "data": {
      "text/plain": [
       "<Axes: >"
      ]
     },
     "execution_count": 66,
     "metadata": {},
     "output_type": "execute_result"
    },
    {
     "data": {
      "text/plain": [
       "Text(0.5, 1.0, 'Distribution of plus in User Table')"
      ]
     },
     "execution_count": 66,
     "metadata": {},
     "output_type": "execute_result"
    },
    {
     "data": {
      "text/plain": [
       "Text(0.5, 0, 'plus')"
      ]
     },
     "execution_count": 66,
     "metadata": {},
     "output_type": "execute_result"
    },
    {
     "data": {
      "text/plain": [
       "Text(0, 0.5, 'Count')"
      ]
     },
     "execution_count": 66,
     "metadata": {},
     "output_type": "execute_result"
    },
    {
     "data": {
      "image/png": "[encoded data removed]",
      "text/plain": [
       "<Figure size 640x480 with 1 Axes>"
      ]
     },
     "metadata": {},
     "output_type": "display_data"
    },
    {
     "data": {
      "text/plain": [
       "<Axes: >"
      ]
     },
     "execution_count": 66,
     "metadata": {},
     "output_type": "execute_result"
    },
    {
     "data": {
      "text/plain": [
       "Text(0.5, 1.0, 'Distribution of gender in User Table')"
      ]
     },
     "execution_count": 66,
     "metadata": {},
     "output_type": "execute_result"
    },
    {
     "data": {
      "text/plain": [
       "Text(0.5, 0, 'gender')"
      ]
     },
     "execution_count": 66,
     "metadata": {},
     "output_type": "execute_result"
    },
    {
     "data": {
      "text/plain": [
       "Text(0, 0.5, 'Count')"
      ]
     },
     "execution_count": 66,
     "metadata": {},
     "output_type": "execute_result"
    },
    {
     "data": {
      "image/png": "[encoded data removed]",
      "text/plain": [
       "<Figure size 640x480 with 1 Axes>"
      ]
     },
     "metadata": {},
     "output_type": "display_data"
    },
    {
     "data": {
      "text/plain": [
       "<Axes: >"
      ]
     },
     "execution_count": 66,
     "metadata": {},
     "output_type": "execute_result"
    },
    {
     "data": {
      "text/plain": [
       "Text(0.5, 1.0, 'Distribution of age in User Table')"
      ]
     },
     "execution_count": 66,
     "metadata": {},
     "output_type": "execute_result"
    },
    {
     "data": {
      "text/plain": [
       "Text(0.5, 0, 'age')"
      ]
     },
     "execution_count": 66,
     "metadata": {},
     "output_type": "execute_result"
    },
    {
     "data": {
      "text/plain": [
       "Text(0, 0.5, 'Count')"
      ]
     },
     "execution_count": 66,
     "metadata": {},
     "output_type": "execute_result"
    },
    {
     "data": {
      "image/png": "[encoded data removed]",
      "text/plain": [
       "<Figure size 640x480 with 1 Axes>"
      ]
     },
     "metadata": {},
     "output_type": "display_data"
    },
    {
     "data": {
      "text/plain": [
       "<Axes: >"
      ]
     },
     "execution_count": 66,
     "metadata": {},
     "output_type": "execute_result"
    },
    {
     "data": {
      "text/plain": [
       "Text(0.5, 1.0, 'Distribution of marital_status in User Table')"
      ]
     },
     "execution_count": 66,
     "metadata": {},
     "output_type": "execute_result"
    },
    {
     "data": {
      "text/plain": [
       "Text(0.5, 0, 'marital_status')"
      ]
     },
     "execution_count": 66,
     "metadata": {},
     "output_type": "execute_result"
    },
    {
     "data": {
      "text/plain": [
       "Text(0, 0.5, 'Count')"
      ]
     },
     "execution_count": 66,
     "metadata": {},
     "output_type": "execute_result"
    },
    {
     "data": {
      "image/png": "[encoded data removed]",
      "text/plain": [
       "<Figure size 640x480 with 1 Axes>"
      ]
     },
     "metadata": {},
     "output_type": "display_data"
    },
    {
     "data": {
      "text/plain": [
       "<Axes: >"
      ]
     },
     "execution_count": 66,
     "metadata": {},
     "output_type": "execute_result"
    },
    {
     "data": {
      "text/plain": [
       "Text(0.5, 1.0, 'Distribution of education in User Table')"
      ]
     },
     "execution_count": 66,
     "metadata": {},
     "output_type": "execute_result"
    },
    {
     "data": {
      "text/plain": [
       "Text(0.5, 0, 'education')"
      ]
     },
     "execution_count": 66,
     "metadata": {},
     "output_type": "execute_result"
    },
    {
     "data": {
      "text/plain": [
       "Text(0, 0.5, 'Count')"
      ]
     },
     "execution_count": 66,
     "metadata": {},
     "output_type": "execute_result"
    },
    {
     "data": {
      "image/png": "[encoded data removed]",
      "text/plain": [
       "<Figure size 640x480 with 1 Axes>"
      ]
     },
     "metadata": {},
     "output_type": "display_data"
    },
    {
     "data": {
      "text/plain": [
       "<Axes: >"
      ]
     },
     "execution_count": 66,
     "metadata": {},
     "output_type": "execute_result"
    },
    {
     "data": {
      "text/plain": [
       "Text(0.5, 1.0, 'Distribution of city_level in User Table')"
      ]
     },
     "execution_count": 66,
     "metadata": {},
     "output_type": "execute_result"
    },
    {
     "data": {
      "text/plain": [
       "Text(0.5, 0, 'city_level')"
      ]
     },
     "execution_count": 66,
     "metadata": {},
     "output_type": "execute_result"
    },
    {
     "data": {
      "text/plain": [
       "Text(0, 0.5, 'Count')"
      ]
     },
     "execution_count": 66,
     "metadata": {},
     "output_type": "execute_result"
    },
    {
     "data": {
      "image/png": "[encoded data removed]",
      "text/plain": [
       "<Figure size 640x480 with 1 Axes>"
      ]
     },
     "metadata": {},
     "output_type": "display_data"
    },
    {
     "data": {
      "text/plain": [
       "<Axes: >"
      ]
     },
     "execution_count": 66,
     "metadata": {},
     "output_type": "execute_result"
    },
    {
     "data": {
      "text/plain": [
       "Text(0.5, 1.0, 'Distribution of purchase_power in User Table')"
      ]
     },
     "execution_count": 66,
     "metadata": {},
     "output_type": "execute_result"
    },
    {
     "data": {
      "text/plain": [
       "Text(0.5, 0, 'purchase_power')"
      ]
     },
     "execution_count": 66,
     "metadata": {},
     "output_type": "execute_result"
    },
    {
     "data": {
      "text/plain": [
       "Text(0, 0.5, 'Count')"
      ]
     },
     "execution_count": 66,
     "metadata": {},
     "output_type": "execute_result"
    },
    {
     "data": {
      "image/png": "[encoded data removed]",
      "text/plain": [
       "<Figure size 640x480 with 1 Axes>"
      ]
     },
     "metadata": {},
     "output_type": "display_data"
    }
   ],
   "source": [
    "categorical_vars = ['user_level', 'plus', 'gender', 'age', 'marital_status', 'education', 'city_level', 'purchase_power']\n",
    "\n",
    "# Loop through each categorical variable and create a bar graph for its distribution\n",
    "for var in categorical_vars:\n",
    "    user[var].value_counts().plot(kind='bar')\n",
    "    plt.title(f\"Distribution of {var} in User Table\")\n",
    "    plt.xlabel(var)\n",
    "    plt.ylabel(\"Count\")\n",
    "    plt.show()\n",
    "    #from the graphs we can say that the education level of the majority is 3 and age level of the most users is 26-35."
   ]
  },
  {
   "cell_type": "markdown",
   "id": "6e39279d",
   "metadata": {},
   "source": [
    "24. There is only one interval variable in this table. Make a graph to examine the distribution of variable 'tenure'. What do you observe?"
   ]
  },
  {
   "cell_type": "code",
   "execution_count": 67,
   "id": "36a72ace",
   "metadata": {},
   "outputs": [
    {
     "data": {
      "text/plain": [
       "(array([1.83029e+05, 1.11270e+05, 6.61620e+04, 4.68910e+04, 3.47040e+04,\n",
       "        1.17410e+04, 2.86400e+03, 4.97000e+02, 1.05000e+02, 3.50000e+01]),\n",
       " array([  0. ,  17.1,  34.2,  51.3,  68.4,  85.5, 102.6, 119.7, 136.8,\n",
       "        153.9, 171. ]),\n",
       " <BarContainer object of 10 artists>)"
      ]
     },
     "execution_count": 67,
     "metadata": {},
     "output_type": "execute_result"
    },
    {
     "data": {
      "text/plain": [
       "Text(0.5, 1.0, 'Distribution of Tenure in User Table')"
      ]
     },
     "execution_count": 67,
     "metadata": {},
     "output_type": "execute_result"
    },
    {
     "data": {
      "text/plain": [
       "Text(0.5, 0, 'Tenure')"
      ]
     },
     "execution_count": 67,
     "metadata": {},
     "output_type": "execute_result"
    },
    {
     "data": {
      "text/plain": [
       "Text(0, 0.5, 'Frequency')"
      ]
     },
     "execution_count": 67,
     "metadata": {},
     "output_type": "execute_result"
    },
    {
     "data": {
      "image/png": "[encoded data removed]",
      "text/plain": [
       "<Figure size 640x480 with 1 Axes>"
      ]
     },
     "metadata": {},
     "output_type": "display_data"
    }
   ],
   "source": [
    "plt.hist(user['tenure'])\n",
    "plt.title(\"Distribution of Tenure in User Table\")\n",
    "plt.xlabel(\"Tenure\")\n",
    "plt.ylabel(\"Frequency\")\n",
    "plt.show()"
   ]
  },
  {
   "cell_type": "markdown",
   "id": "da17ae2a",
   "metadata": {},
   "source": [
    "25. Next is the order table. Sum the quantity by day (we created this variable in Q14.) and save the results.\n",
    "Create a line graph based on it. Hint: The outcome of the sum is a Pandas Series. Use the .index to get the day and .values to get the sum for the plot. Which day has the most quantity sold?"
   ]
  },
  {
   "cell_type": "code",
   "execution_count": 68,
   "id": "31bf318c",
   "metadata": {
    "scrolled": true
   },
   "outputs": [
    {
     "data": {
      "text/plain": [
       "[<matplotlib.lines.Line2D at 0x2056bc87d90>]"
      ]
     },
     "execution_count": 68,
     "metadata": {},
     "output_type": "execute_result"
    },
    {
     "data": {
      "text/plain": [
       "Text(0.5, 1.0, 'Total Quantity Sold by Day')"
      ]
     },
     "execution_count": 68,
     "metadata": {},
     "output_type": "execute_result"
    },
    {
     "data": {
      "text/plain": [
       "Text(0.5, 0, 'Day')"
      ]
     },
     "execution_count": 68,
     "metadata": {},
     "output_type": "execute_result"
    },
    {
     "data": {
      "text/plain": [
       "Text(0, 0.5, 'Total Quantity Sold')"
      ]
     },
     "execution_count": 68,
     "metadata": {},
     "output_type": "execute_result"
    },
    {
     "data": {
      "image/png": "[encoded data removed]",
      "text/plain": [
       "<Figure size 640x480 with 1 Axes>"
      ]
     },
     "metadata": {},
     "output_type": "display_data"
    }
   ],
   "source": [
    "order_sum_by_day = order.groupby('day')['quantity'].sum()\n",
    "\n",
    "plt.plot(order_sum_by_day.index, order_sum_by_day.values)\n",
    "plt.title(\"Total Quantity Sold by Day\")\n",
    "plt.xlabel(\"Day\")\n",
    "plt.ylabel(\"Total Quantity Sold\")\n",
    "plt.show()"
   ]
  },
  {
   "cell_type": "markdown",
   "id": "9d3763ce",
   "metadata": {},
   "source": [
    "26. Repeat Q25 for the vairbale 'hour'. When is the peak time for orders during a day? Can you describe the customer order trend over a day's time?"
   ]
  },
  {
   "cell_type": "code",
   "execution_count": 69,
   "id": "bef7e971",
   "metadata": {},
   "outputs": [
    {
     "data": {
      "text/plain": [
       "[<matplotlib.lines.Line2D at 0x2056a0c4b10>]"
      ]
     },
     "execution_count": 69,
     "metadata": {},
     "output_type": "execute_result"
    },
    {
     "data": {
      "text/plain": [
       "Text(0.5, 1.0, 'Total Quantity Sold by Day')"
      ]
     },
     "execution_count": 69,
     "metadata": {},
     "output_type": "execute_result"
    },
    {
     "data": {
      "text/plain": [
       "Text(0.5, 0, 'Hour')"
      ]
     },
     "execution_count": 69,
     "metadata": {},
     "output_type": "execute_result"
    },
    {
     "data": {
      "text/plain": [
       "Text(0, 0.5, 'Total Quantity Sold')"
      ]
     },
     "execution_count": 69,
     "metadata": {},
     "output_type": "execute_result"
    },
    {
     "data": {
      "image/png": "[encoded data removed]",
      "text/plain": [
       "<Figure size 640x480 with 1 Axes>"
      ]
     },
     "metadata": {},
     "output_type": "display_data"
    }
   ],
   "source": [
    "order_sum_by_day = order.groupby('hour')['quantity'].sum()\n",
    "\n",
    "# Create a line graph\n",
    "plt.plot(order_sum_by_day.index, order_sum_by_day.values)\n",
    "plt.title(\"Total Quantity Sold by Day\")\n",
    "plt.xlabel(\"Hour\")\n",
    "plt.ylabel(\"Total Quantity Sold\")\n",
    "plt.show()"
   ]
  },
  {
   "cell_type": "markdown",
   "id": "4a661088",
   "metadata": {},
   "source": [
    "27. Examine variable original_unit_price . 1) Using describe() to check the stastitics. What is min, max and median?"
   ]
  },
  {
   "cell_type": "code",
   "execution_count": 70,
   "id": "c19e4bb1",
   "metadata": {},
   "outputs": [
    {
     "name": "stdout",
     "output_type": "stream",
     "text": [
      "count    549989.000000\n",
      "mean        102.813542\n",
      "std          95.035563\n",
      "min           0.000000\n",
      "25%          59.000000\n",
      "50%          79.000000\n",
      "75%         139.000000\n",
      "max       12158.000000\n",
      "Name: original_unit_price, dtype: float64\n"
     ]
    }
   ],
   "source": [
    "original_unit_price_stats = order['original_unit_price'].describe()\n",
    "print(original_unit_price_stats)\n",
    "#Min = 0.000000, max = 12158.000000 and median = 79.000000"
   ]
  },
  {
   "cell_type": "markdown",
   "id": "ce6b4b9c",
   "metadata": {},
   "source": [
    "2) Find out the percentage of observations whose original_unit_price is greater than 350. Delete those observations using filtering. We will use the filtered dataset from now on."
   ]
  },
  {
   "cell_type": "code",
   "execution_count": 71,
   "id": "aacc2f83",
   "metadata": {},
   "outputs": [
    {
     "name": "stdout",
     "output_type": "stream",
     "text": [
      "0.7474694948444424\n"
     ]
    }
   ],
   "source": [
    "total_obs = len(order)\n",
    "obs_gt_350 = len(order[order['original_unit_price'] > 350])\n",
    "percentage_gt_350 = (obs_gt_350 / total_obs) * 100\n",
    "print(percentage_gt_350)\n",
    "filtered_order = order[order['original_unit_price'] <= 350]"
   ]
  },
  {
   "cell_type": "code",
   "execution_count": 72,
   "id": "92c1116a",
   "metadata": {},
   "outputs": [
    {
     "name": "stdout",
     "output_type": "stream",
     "text": [
      "          order_ID     user_ID      sku_ID order_date          order_time  \\\n",
      "0       d0cf5cc6db  0abe9ef2ce  581d5b54c1 2018-03-01 2018-03-01 17:14:25   \n",
      "1       7444318d01  33a9e56257  067b673f2b 2018-03-01 2018-03-01 11:10:40   \n",
      "2       f973b01694  4ea3cf408f  623d0a582a 2018-03-01 2018-03-01 09:13:26   \n",
      "3       8c1cec8d4b  b87cb736cb  fc5289b139 2018-03-01 2018-03-01 21:29:50   \n",
      "4       d43a33c38a  4829223b6f  623d0a582a 2018-03-01 2018-03-01 19:13:37   \n",
      "...            ...         ...         ...        ...                 ...   \n",
      "549984  3ad06b9fbe  a27b3ed4d4  a9109972d1 2018-03-31 2018-03-31 01:22:47   \n",
      "549985  c9d77a7ed0  18f92434cd  7f53769d3f 2018-03-31 2018-03-31 08:55:57   \n",
      "549986  b9ad79338f  b5caf8a580  8dc4a01dec 2018-03-31 2018-03-31 13:31:01   \n",
      "549987  be3a9414b1  20ba6655f3  2dd6b818ec 2018-03-31 2018-03-31 12:51:18   \n",
      "549988  02d31f05c9  f260895cbe  10d369ef96 2018-03-31 2018-03-31 18:21:16   \n",
      "\n",
      "        quantity  type promise  original_unit_price  final_unit_price  \\\n",
      "0              1     2       -                 89.0              79.0   \n",
      "1              1     1       2                 99.9              53.9   \n",
      "2              1     1       2                 78.0              58.5   \n",
      "3              1     1       2                 61.0              35.0   \n",
      "4              1     1       1                 78.0              53.0   \n",
      "...          ...   ...     ...                  ...               ...   \n",
      "549984         1     2       -                  0.0              -1.0   \n",
      "549985         1     1       3                118.0              55.0   \n",
      "549986         1     1       2                 78.0              78.0   \n",
      "549987         1     2       -                189.0              78.0   \n",
      "549988         1     2       4                 68.0              49.0   \n",
      "\n",
      "        direct_discount_per_unit  quantity_discount_per_unit  \\\n",
      "0                            0.0                        10.0   \n",
      "1                            5.0                        41.0   \n",
      "2                           19.5                         0.0   \n",
      "3                            0.0                        26.0   \n",
      "4                           19.0                         0.0   \n",
      "...                          ...                         ...   \n",
      "549984                       0.0                         0.0   \n",
      "549985                      63.0                         0.0   \n",
      "549986                       0.0                         0.0   \n",
      "549987                     111.0                         0.0   \n",
      "549988                      19.0                         0.0   \n",
      "\n",
      "        bundle_discount_per_unit  coupon_discount_per_unit  gift_item  dc_ori  \\\n",
      "0                            0.0                       0.0          0       4   \n",
      "1                            0.0                       0.0          0      28   \n",
      "2                            0.0                       0.0          0      28   \n",
      "3                            0.0                       0.0          0       4   \n",
      "4                            0.0                       6.0          0       3   \n",
      "...                          ...                       ...        ...     ...   \n",
      "549984                       0.0                       1.0          1       2   \n",
      "549985                       0.0                       0.0          0      59   \n",
      "549986                       0.0                       0.0          0       2   \n",
      "549987                       0.0                       0.0          0       4   \n",
      "549988                       0.0                       0.0          0       4   \n",
      "\n",
      "        dc_des  day  hour  \n",
      "0           28    1    17  \n",
      "1           28    1    11  \n",
      "2           28    1     9  \n",
      "3           28    1    21  \n",
      "4           16    1    19  \n",
      "...        ...  ...   ...  \n",
      "549984       2   31     1  \n",
      "549985       2   31     8  \n",
      "549986       2   31    13  \n",
      "549987      28   31    12  \n",
      "549988      28   31    18  \n",
      "\n",
      "[545878 rows x 19 columns]\n"
     ]
    }
   ],
   "source": [
    "print(filtered_order)"
   ]
  },
  {
   "cell_type": "markdown",
   "id": "0632e2a3",
   "metadata": {},
   "source": [
    "3) Examine the distribution of original_unit_price, using bins range from 0 to 350, width 10. Which price range has the most orders?"
   ]
  },
  {
   "cell_type": "code",
   "execution_count": 73,
   "id": "8121b9c5",
   "metadata": {},
   "outputs": [
    {
     "data": {
      "text/plain": [
       "(array([94988.,  5139.,  3643.,  9405., 12372., 42122., 52694., 74908.,\n",
       "        31649., 27685., 11848., 13242., 18957., 22047., 14749., 10859.,\n",
       "         6509., 13044.,  8028.,  9983.,  4189.,  1956.,   951.,  4021.,\n",
       "         7876.,  3596.,  2531.,   690.,   903., 28928.,  1502.,   178.,\n",
       "          873.,  3696.]),\n",
       " array([  0.,  10.,  20.,  30.,  40.,  50.,  60.,  70.,  80.,  90., 100.,\n",
       "        110., 120., 130., 140., 150., 160., 170., 180., 190., 200., 210.,\n",
       "        220., 230., 240., 250., 260., 270., 280., 290., 300., 310., 320.,\n",
       "        330., 340.]),\n",
       " <BarContainer object of 34 artists>)"
      ]
     },
     "execution_count": 73,
     "metadata": {},
     "output_type": "execute_result"
    },
    {
     "data": {
      "text/plain": [
       "Text(0.5, 0, 'Original Unit Price')"
      ]
     },
     "execution_count": 73,
     "metadata": {},
     "output_type": "execute_result"
    },
    {
     "data": {
      "text/plain": [
       "Text(0, 0.5, 'Count')"
      ]
     },
     "execution_count": 73,
     "metadata": {},
     "output_type": "execute_result"
    },
    {
     "data": {
      "text/plain": [
       "Text(0.5, 1.0, 'Distribution of Original Unit Price')"
      ]
     },
     "execution_count": 73,
     "metadata": {},
     "output_type": "execute_result"
    },
    {
     "data": {
      "image/png": "[encoded data removed]",
      "text/plain": [
       "<Figure size 640x480 with 1 Axes>"
      ]
     },
     "metadata": {},
     "output_type": "display_data"
    }
   ],
   "source": [
    "plt.hist(filtered_order['original_unit_price'], bins=range(0, 350, 10))\n",
    "\n",
    "# Set the x-axis label\n",
    "plt.xlabel('Original Unit Price')\n",
    "\n",
    "# Set the y-axis label\n",
    "plt.ylabel('Count')\n",
    "\n",
    "# Set the title of the plot\n",
    "plt.title('Distribution of Original Unit Price')\n",
    "\n",
    "# Show the plot\n",
    "plt.show()\n",
    "#price range 0-10 has the most values"
   ]
  },
  {
   "cell_type": "markdown",
   "id": "41361250",
   "metadata": {},
   "source": [
    "28. Examine the distribution of final_unit_price, using bins range from -40 to 350, width 10. Comparing to original unit prices, how are the final prices different?"
   ]
  },
  {
   "cell_type": "code",
   "execution_count": 74,
   "id": "287e9765",
   "metadata": {},
   "outputs": [
    {
     "data": {
      "text/plain": [
       "(array([2.4000e+01, 1.0000e+00, 1.7200e+02, 8.3400e+03, 9.2272e+04,\n",
       "        1.0100e+04, 1.6074e+04, 5.7240e+04, 5.6285e+04, 6.3391e+04,\n",
       "        5.4551e+04, 3.2208e+04, 1.7110e+04, 1.8179e+04, 1.4814e+04,\n",
       "        7.8970e+03, 1.4049e+04, 7.6800e+03, 1.2938e+04, 7.5770e+03,\n",
       "        1.0248e+04, 2.6340e+03, 4.1050e+03, 4.4710e+03, 1.2051e+04,\n",
       "        3.9150e+03, 8.7500e+03, 2.8630e+03, 2.8880e+03, 9.3500e+02,\n",
       "        4.3700e+02, 4.0200e+02, 3.7000e+02, 4.6500e+02, 1.8000e+02,\n",
       "        8.1000e+01, 7.1000e+01, 8.7000e+01]),\n",
       " array([-40., -30., -20., -10.,   0.,  10.,  20.,  30.,  40.,  50.,  60.,\n",
       "         70.,  80.,  90., 100., 110., 120., 130., 140., 150., 160., 170.,\n",
       "        180., 190., 200., 210., 220., 230., 240., 250., 260., 270., 280.,\n",
       "        290., 300., 310., 320., 330., 340.]),\n",
       " <BarContainer object of 38 artists>)"
      ]
     },
     "execution_count": 74,
     "metadata": {},
     "output_type": "execute_result"
    },
    {
     "data": {
      "text/plain": [
       "Text(0.5, 0, 'final Unit Price')"
      ]
     },
     "execution_count": 74,
     "metadata": {},
     "output_type": "execute_result"
    },
    {
     "data": {
      "text/plain": [
       "Text(0, 0.5, 'Count')"
      ]
     },
     "execution_count": 74,
     "metadata": {},
     "output_type": "execute_result"
    },
    {
     "data": {
      "text/plain": [
       "Text(0.5, 1.0, 'Distribution of Final Unit Price')"
      ]
     },
     "execution_count": 74,
     "metadata": {},
     "output_type": "execute_result"
    },
    {
     "data": {
      "image/png": "[encoded data removed]",
      "text/plain": [
       "<Figure size 640x480 with 1 Axes>"
      ]
     },
     "metadata": {},
     "output_type": "display_data"
    }
   ],
   "source": [
    "plt.hist(filtered_order['final_unit_price'], bins=range(-40, 350, 10))\n",
    "\n",
    "# Set the x-axis label\n",
    "plt.xlabel('final Unit Price')\n",
    "\n",
    "# Set the y-axis label\n",
    "plt.ylabel('Count')\n",
    "\n",
    "# Set the title of the plot\n",
    "plt.title('Distribution of Final Unit Price')\n",
    "\n",
    "# Show the plot\n",
    "plt.show()\n",
    "#original unit price is a little more right skewed than final unit price"
   ]
  },
  {
   "cell_type": "markdown",
   "id": "3146104a",
   "metadata": {},
   "source": [
    "29. Create a new variable 'sales', which is equal to the multiplication of quantity and final unit price. Make a graph for sales by day as in Q25."
   ]
  },
  {
   "cell_type": "code",
   "execution_count": 75,
   "id": "78d29d15",
   "metadata": {},
   "outputs": [
    {
     "name": "stderr",
     "output_type": "stream",
     "text": [
      "C:\\Users\\kjs\\AppData\\Local\\Temp\\ipykernel_30332\\1692007361.py:1: SettingWithCopyWarning: \n",
      "A value is trying to be set on a copy of a slice from a DataFrame.\n",
      "Try using .loc[row_indexer,col_indexer] = value instead\n",
      "\n",
      "See the caveats in the documentation: https://pandas.pydata.org/pandas-docs/stable/user_guide/indexing.html#returning-a-view-versus-a-copy\n",
      "  filtered_order['sales'] = filtered_order['quantity'] * filtered_order['final_unit_price']\n"
     ]
    },
    {
     "data": {
      "text/plain": [
       "[<matplotlib.lines.Line2D at 0x2056a1a9c10>]"
      ]
     },
     "execution_count": 75,
     "metadata": {},
     "output_type": "execute_result"
    },
    {
     "data": {
      "text/plain": [
       "Text(0.5, 0, 'Date')"
      ]
     },
     "execution_count": 75,
     "metadata": {},
     "output_type": "execute_result"
    },
    {
     "data": {
      "text/plain": [
       "Text(0, 0.5, 'Sales')"
      ]
     },
     "execution_count": 75,
     "metadata": {},
     "output_type": "execute_result"
    },
    {
     "data": {
      "text/plain": [
       "Text(0.5, 1.0, 'Sales by Day')"
      ]
     },
     "execution_count": 75,
     "metadata": {},
     "output_type": "execute_result"
    },
    {
     "data": {
      "image/png": "[encoded data removed]",
      "text/plain": [
       "<Figure size 640x480 with 1 Axes>"
      ]
     },
     "metadata": {},
     "output_type": "display_data"
    }
   ],
   "source": [
    "filtered_order['sales'] = filtered_order['quantity'] * filtered_order['final_unit_price']\n",
    "\n",
    "# Group the data by 'date' and sum the 'sales' for each day\n",
    "df_sales_by_day = filtered_order.groupby('day')['sales'].sum()\n",
    "\n",
    "# Create a line graph for sales by day\n",
    "plt.plot(df_sales_by_day.index, df_sales_by_day.values)\n",
    "\n",
    "# Set the x-axis label\n",
    "plt.xlabel('Date')\n",
    "\n",
    "# Set the y-axis label\n",
    "plt.ylabel('Sales')\n",
    "\n",
    "# Set the title of the plot\n",
    "plt.title('Sales by Day')\n",
    "\n",
    "# Show the plot\n",
    "plt.show()"
   ]
  },
  {
   "cell_type": "markdown",
   "id": "f8b594ac",
   "metadata": {},
   "source": [
    "30. Try to answer one descriptive question you asked in your project initial report."
   ]
  },
  {
   "cell_type": "code",
   "execution_count": null,
   "id": "b6d837ae",
   "metadata": {},
   "outputs": [],
   "source": []
  }
 ],
 "metadata": {
  "kernelspec": {
   "display_name": "Python 3 (ipykernel)",
   "language": "python",
   "name": "python3"
  },
  "language_info": {
   "codemirror_mode": {
    "name": "ipython",
    "version": 3
   },
   "file_extension": ".py",
   "mimetype": "text/x-python",
   "name": "python",
   "nbconvert_exporter": "python",
   "pygments_lexer": "ipython3",
   "version": "3.11.5"
  }
 },
 "nbformat": 4,
 "nbformat_minor": 5
}
