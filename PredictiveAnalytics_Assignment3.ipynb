{
  "cells": [
    {
      "cell_type": "code",
      "execution_count": 1,
      "metadata": {
        "id": "rnb4eCwB2x6g",
        "outputId": "575440d4-f3d6-44f2-a96d-3e0e0252da3e"
      },
      "outputs": [
        {
          "name": "stdout",
          "output_type": "stream",
          "text": [
            "Requirement already satisfied: dmba in /usr/local/lib/python3.10/dist-packages (0.2.4)\n",
            "Requirement already satisfied: graphviz in /usr/local/lib/python3.10/dist-packages (from dmba) (0.20.1)\n",
            "Requirement already satisfied: matplotlib in /usr/local/lib/python3.10/dist-packages (from dmba) (3.7.1)\n",
            "Requirement already satisfied: numpy in /usr/local/lib/python3.10/dist-packages (from dmba) (1.23.5)\n",
            "Requirement already satisfied: pandas in /usr/local/lib/python3.10/dist-packages (from dmba) (1.5.3)\n",
            "Requirement already satisfied: scikit-learn in /usr/local/lib/python3.10/dist-packages (from dmba) (1.2.2)\n",
            "Requirement already satisfied: scipy in /usr/local/lib/python3.10/dist-packages (from dmba) (1.11.3)\n",
            "Requirement already satisfied: contourpy>=1.0.1 in /usr/local/lib/python3.10/dist-packages (from matplotlib->dmba) (1.2.0)\n",
            "Requirement already satisfied: cycler>=0.10 in /usr/local/lib/python3.10/dist-packages (from matplotlib->dmba) (0.12.1)\n",
            "Requirement already satisfied: fonttools>=4.22.0 in /usr/local/lib/python3.10/dist-packages (from matplotlib->dmba) (4.44.0)\n",
            "Requirement already satisfied: kiwisolver>=1.0.1 in /usr/local/lib/python3.10/dist-packages (from matplotlib->dmba) (1.4.5)\n",
            "Requirement already satisfied: packaging>=20.0 in /usr/local/lib/python3.10/dist-packages (from matplotlib->dmba) (23.2)\n",
            "Requirement already satisfied: pillow>=6.2.0 in /usr/local/lib/python3.10/dist-packages (from matplotlib->dmba) (9.4.0)\n",
            "Requirement already satisfied: pyparsing>=2.3.1 in /usr/local/lib/python3.10/dist-packages (from matplotlib->dmba) (3.1.1)\n",
            "Requirement already satisfied: python-dateutil>=2.7 in /usr/local/lib/python3.10/dist-packages (from matplotlib->dmba) (2.8.2)\n",
            "Requirement already satisfied: pytz>=2020.1 in /usr/local/lib/python3.10/dist-packages (from pandas->dmba) (2023.3.post1)\n",
            "Requirement already satisfied: joblib>=1.1.1 in /usr/local/lib/python3.10/dist-packages (from scikit-learn->dmba) (1.3.2)\n",
            "Requirement already satisfied: threadpoolctl>=2.0.0 in /usr/local/lib/python3.10/dist-packages (from scikit-learn->dmba) (3.2.0)\n",
            "Requirement already satisfied: six>=1.5 in /usr/local/lib/python3.10/dist-packages (from python-dateutil>=2.7->matplotlib->dmba) (1.16.0)\n",
            "Colab environment detected.\n"
          ]
        }
      ],
      "source": [
        "# Import required packages\n",
        "from pathlib import Path\n",
        "import numpy as np\n",
        "import pandas as pd\n",
        "from sklearn import preprocessing\n",
        "from sklearn.preprocessing import StandardScaler\n",
        "from sklearn.model_selection import train_test_split\n",
        "from sklearn.metrics import accuracy_score\n",
        "from sklearn.neighbors import NearestNeighbors, KNeighborsClassifier\n",
        "import matplotlib.pylab as plt\n",
        "from sklearn.metrics import confusion_matrix\n",
        "from sklearn.metrics import classification_report\n",
        "\n",
        "!pip install dmba\n",
        "\n",
        "import dmba\n",
        "\n",
        "%matplotlib inline"
      ]
    },
    {
      "cell_type": "code",
      "execution_count": 2,
      "metadata": {
        "colab": {
          "base_uri": "https://localhost:8080/"
        },
        "id": "5JgwEOgq2_i3",
        "outputId": "c739a004-5783-48ba-e932-14da3226df27"
      },
      "outputs": [
        {
          "name": "stdout",
          "output_type": "stream",
          "text": [
            "      Age  Experience  Income  Family  CCAvg  Mortgage  Personal Loan  \\\n",
            "0      25           1      49       4    1.6         0              0   \n",
            "1      45          19      34       3    1.5         0              0   \n",
            "2      39          15      11       1    1.0         0              0   \n",
            "3      35           9     100       1    2.7         0              0   \n",
            "4      35           8      45       4    1.0         0              0   \n",
            "...   ...         ...     ...     ...    ...       ...            ...   \n",
            "4995   29           3      40       1    1.9         0              0   \n",
            "4996   30           4      15       4    0.4        85              0   \n",
            "4997   63          39      24       2    0.3         0              0   \n",
            "4998   65          40      49       3    0.5         0              0   \n",
            "4999   28           4      83       3    0.8         0              0   \n",
            "\n",
            "      Securities Account  CD Account  Online  CreditCard  Education_1  \\\n",
            "0                      1           0       0           0            1   \n",
            "1                      1           0       0           0            1   \n",
            "2                      0           0       0           0            1   \n",
            "3                      0           0       0           0            0   \n",
            "4                      0           0       0           1            0   \n",
            "...                  ...         ...     ...         ...          ...   \n",
            "4995                   0           0       1           0            0   \n",
            "4996                   0           0       1           0            1   \n",
            "4997                   0           0       0           0            0   \n",
            "4998                   0           0       1           0            0   \n",
            "4999                   0           0       1           1            1   \n",
            "\n",
            "      Education_2  Education_3  \n",
            "0               0            0  \n",
            "1               0            0  \n",
            "2               0            0  \n",
            "3               1            0  \n",
            "4               1            0  \n",
            "...           ...          ...  \n",
            "4995            0            1  \n",
            "4996            0            0  \n",
            "4997            0            1  \n",
            "4998            1            0  \n",
            "4999            0            0  \n",
            "\n",
            "[5000 rows x 14 columns]\n"
          ]
        }
      ],
      "source": [
        "# Load the Universal Bank dataset and name it as \"bank_df\"\n",
        "universal_bank_df = pd.read_csv(\"UniversalBank.csv\")\n",
        "universal_bank_df.dropna(inplace=True)\n",
        "universal_bank_df.head(9)\n",
        "universal_bank_df = universal_bank_df.drop(columns=['ID', 'ZIP Code'])\n",
        "\n",
        "# One-hot encode the 'Education' column\n",
        "edu = pd.get_dummies(universal_bank_df['Education'], prefix='Education')\n",
        "universal_bank_df = pd.concat([universal_bank_df, edu], axis=1)\n",
        "universal_bank_df.drop(['Education'], axis=1, inplace=True)\n",
        "print(universal_bank_df)"
      ]
    },
    {
      "cell_type": "markdown",
      "metadata": {
        "id": "61nVVvB_c-Rs"
      },
      "source": [
        "##Partition the data\n",
        "1. Partition the data into training (75%) and validation (25%) sets."
      ]
    },
    {
      "cell_type": "code",
      "execution_count": 3,
      "metadata": {
        "colab": {
          "base_uri": "https://localhost:8080/"
        },
        "id": "gLfbKRGc5oNe",
        "outputId": "57abd1e6-a515-4005-eca2-40e2e7b8bb10"
      },
      "outputs": [
        {
          "name": "stdout",
          "output_type": "stream",
          "text": [
            "(3750, 13) (1250, 13) (3750,) (1250,)\n",
            "      Age  Experience  Income  Family  CCAvg  Mortgage  Securities Account  \\\n",
            "2413   60          34      31       2   1.00         0                   0   \n",
            "1471   52          26     180       1   1.00         0                   0   \n",
            "1196   37          13      71       2   2.70        94                   0   \n",
            "1509   56          26      92       2   4.50         0                   1   \n",
            "4110   66          41      59       3   2.40         0                   0   \n",
            "...   ...         ...     ...     ...    ...       ...                 ...   \n",
            "1593   63          38      83       3   1.80         0                   0   \n",
            "4060   31           6     174       2   6.70         0                   0   \n",
            "1346   44          20      50       3   2.33       200                   0   \n",
            "3454   47          21     132       1   0.30         0                   0   \n",
            "3582   49          25      65       1   0.00         0                   0   \n",
            "\n",
            "      CD Account  Online  CreditCard  Education_1  Education_2  Education_3  \n",
            "2413           0       0           0            0            0            1  \n",
            "1471           0       1           1            1            0            0  \n",
            "1196           0       1           0            1            0            0  \n",
            "1509           0       0           1            0            0            1  \n",
            "4110           0       0           0            1            0            0  \n",
            "...          ...     ...         ...          ...          ...          ...  \n",
            "1593           0       1           0            0            1            0  \n",
            "4060           0       1           1            1            0            0  \n",
            "1346           0       0           0            1            0            0  \n",
            "3454           0       1           0            1            0            0  \n",
            "3582           0       1           0            1            0            0  \n",
            "\n",
            "[3750 rows x 13 columns]\n"
          ]
        }
      ],
      "source": [
        "# Partition the data into training (75%) and validation (25%) sets\n",
        "\n",
        "X = universal_bank_df.drop(['Personal Loan'], axis=1)\n",
        "y = universal_bank_df['Personal Loan']\n",
        "X_train, X_valid, y_train, y_valid = train_test_split(X, y, test_size=0.25, random_state=123)\n",
        "print(X_train.shape, X_valid.shape, y_train.shape, y_valid.shape)\n",
        "print(X_train)"
      ]
    },
    {
      "cell_type": "markdown",
      "metadata": {
        "id": "kU5A7-frcyrG"
      },
      "source": [
        "##Record to be classified\n",
        "2. Consider the following customer for classification: Age = 40, Experience = 10,\n",
        "Income = 84, Family = 2, CCAvg = 2, Education_1 = 0, Education_2 = 1,\n",
        "Education_3 = 0, Mortgage = 0, Securities Account = 1, CD Account = 1, Online = 1,\n",
        "and Credit Card = 1."
      ]
    },
    {
      "cell_type": "code",
      "execution_count": 4,
      "metadata": {
        "colab": {
          "base_uri": "https://localhost:8080/"
        },
        "id": "WwDR4s_R7blo",
        "outputId": "2210dd6e-bd2c-4423-d110-1c19e5b9bf03"
      },
      "outputs": [
        {
          "name": "stdout",
          "output_type": "stream",
          "text": [
            "   Age  Experience  Income  Family  CCAvg  Mortgage  Securities Account  \\\n",
            "0   40          10      84       2      2         0                   1   \n",
            "\n",
            "   CD Account  Online  CreditCard  Education_1  Education_2  Education_3  \n",
            "0           1       1           1            0            1            0  \n"
          ]
        }
      ],
      "source": [
        "new_customer = pd.DataFrame({\n",
        "    'Age': [40],\n",
        "    'Experience': [10],\n",
        "    'Income': [84],\n",
        "    'Family': [2],\n",
        "    'CCAvg': [2],\n",
        "    'Mortgage': [0],\n",
        "    'Securities Account': [1],\n",
        "    'CD Account': [1],\n",
        "    'Online': [1],\n",
        "    'CreditCard': [1],\n",
        "    'Education_1': [0],\n",
        "    'Education_2': [1],\n",
        "    'Education_3': [0]\n",
        "})\n",
        "\n",
        "print(new_customer)\n"
      ]
    },
    {
      "cell_type": "markdown",
      "metadata": {
        "id": "yAe8hpy1dWqL"
      },
      "source": [
        "##Preprocess the data\n"
      ]
    },
    {
      "cell_type": "markdown",
      "metadata": {},
      "source": [
        "3. Standardize all the data sets using mean and standard deviations."
      ]
    },
    {
      "cell_type": "code",
      "execution_count": 5,
      "metadata": {
        "id": "UA5aJ-T08_ul"
      },
      "outputs": [],
      "source": [
        "## Standardize the data using mean and standard deviations\n",
        "scaler = StandardScaler()\n",
        "scaler.fit(X_train)\n",
        "X_train = scaler.transform(X_train)\n",
        "X_valid = scaler.transform(X_valid)\n",
        "new_customer = scaler.transform(new_customer)"
      ]
    },
    {
      "cell_type": "markdown",
      "metadata": {
        "id": "sYjwzUNK3dv4"
      },
      "source": [
        "4. Perform a k-NN classification with all predictors except ID and ZIP code using k = 1.\n",
        "How would this customer be classified?"
      ]
    },
    {
      "cell_type": "code",
      "execution_count": 6,
      "metadata": {
        "colab": {
          "base_uri": "https://localhost:8080/"
        },
        "id": "D7_Pp22CIhmv",
        "outputId": "6ddda799-c09f-4c31-b5d9-30280d28e46d"
      },
      "outputs": [
        {
          "name": "stdout",
          "output_type": "stream",
          "text": [
            "3497    0\n",
            "Name: Personal Loan, dtype: int64\n"
          ]
        }
      ],
      "source": [
        "# Perform K-NN classification with k = 1\n",
        "knn = NearestNeighbors(n_neighbors=1)\n",
        "knn.fit(X_train)\n",
        "\n",
        "distances, indices = knn.kneighbors(X_valid)\n",
        "nearest_neighbors = universal_bank_df.iloc[indices[0], :]\n",
        "print(nearest_neighbors[\"Personal Loan\"])"
      ]
    },
    {
      "cell_type": "markdown",
      "metadata": {
        "id": "Q62sV4Wak9HS"
      },
      "source": [
        "Customer with ID 3497 is the nearest neighbour and they did not take a personal loan. So, the prediction is that the new customer will also not take a personal loan.\n"
      ]
    },
    {
      "cell_type": "markdown",
      "metadata": {
        "id": "Zw85oxQr3-92"
      },
      "source": [
        "5. Now find the optimal value of k using the validation data set. What is the optimal k?"
      ]
    },
    {
      "cell_type": "code",
      "execution_count": 7,
      "metadata": {
        "colab": {
          "base_uri": "https://localhost:8080/"
        },
        "id": "iWb4PHW6IigG",
        "outputId": "070aa420-3164-444c-d0df-e3050e07ff49"
      },
      "outputs": [
        {
          "name": "stdout",
          "output_type": "stream",
          "text": [
            "     k  accuracy\n",
            "0    1    0.9640\n",
            "1    2    0.9536\n",
            "2    3    0.9616\n",
            "3    4    0.9568\n",
            "4    5    0.9624\n",
            "5    6    0.9568\n",
            "6    7    0.9608\n",
            "7    8    0.9536\n",
            "8    9    0.9576\n",
            "9   10    0.9536\n",
            "10  11    0.9576\n",
            "11  12    0.9528\n",
            "12  13    0.9536\n",
            "13  14    0.9520\n",
            "14  15    0.9536\n",
            "15  16    0.9496\n",
            "16  17    0.9520\n",
            "17  18    0.9496\n",
            "18  19    0.9528\n"
          ]
        }
      ],
      "source": [
        "# Find the optimal value of k using the validation data set\n",
        "results = []\n",
        "for k in range(1, 20):\n",
        "    knn = KNeighborsClassifier(n_neighbors=k).fit(X_train, y_train)\n",
        "    results.append({\n",
        "        'k': k,\n",
        "        'accuracy': accuracy_score(y_valid, knn.predict(X_valid))\n",
        "    })\n",
        "\n",
        "# Convert results to a pandas data frame\n",
        "results = pd.DataFrame(results)\n",
        "print(results)"
      ]
    },
    {
      "cell_type": "markdown",
      "metadata": {
        "id": "gNMIbq8Q4Ey4"
      },
      "source": [
        "K=1 gives the most accuracy and hence it is the optimal **k**.\n",
        "Using K = 1 might cause overfitting of the model.\n"
      ]
    },
    {
      "cell_type": "markdown",
      "metadata": {
        "id": "c0BruMzY7gEL"
      },
      "source": [
        "6. Print the confusion matrix for the validation data that results from using the optimal\n",
        "k."
      ]
    },
    {
      "cell_type": "code",
      "execution_count": 8,
      "metadata": {
        "colab": {
          "base_uri": "https://localhost:8080/"
        },
        "id": "FxgF8fWd-uAV",
        "outputId": "110ffc5e-5c61-4981-a29d-4dfd30fe01bd"
      },
      "outputs": [
        {
          "name": "stdout",
          "output_type": "stream",
          "text": [
            "Confusion Matrix:\n",
            "[[1108   17]\n",
            " [  28   97]]\n"
          ]
        }
      ],
      "source": [
        "knn_optimal = KNeighborsClassifier(n_neighbors=1)\n",
        "knn_optimal.fit(X_train, y_train)\n",
        "\n",
        "# Make predictions on the validation data\n",
        "y_pred = knn_optimal.predict(X_valid)\n",
        "\n",
        "# Compute the confusion matrix\n",
        "confusion = confusion_matrix(y_valid, y_pred)\n",
        "\n",
        "print(\"Confusion Matrix:\")\n",
        "print(confusion)"
      ]
    },
    {
      "cell_type": "markdown",
      "metadata": {
        "id": "wOWI_-iJChkA"
      },
      "source": [
        "7. Classify the customer specified in Question 2 using the best k."
      ]
    },
    {
      "cell_type": "code",
      "execution_count": 9,
      "metadata": {
        "colab": {
          "base_uri": "https://localhost:8080/"
        },
        "id": "RyC3yOKYIlMZ",
        "outputId": "5cc8ea61-134b-4893-eeb6-4362c9f2feda"
      },
      "outputs": [
        {
          "name": "stdout",
          "output_type": "stream",
          "text": [
            "2004    0\n",
            "Name: Personal Loan, dtype: int64\n"
          ]
        }
      ],
      "source": [
        "knn_best_classifier = NearestNeighbors(n_neighbors=1)\n",
        "knn_best_classifier.fit(X_train)\n",
        "distances, indices = knn_best_classifier.kneighbors(new_customer)\n",
        "nearest_neighbors = universal_bank_df.iloc[indices[0], :]\n",
        "print(nearest_neighbors[\"Personal Loan\"])\n"
      ]
    },
    {
      "cell_type": "markdown",
      "metadata": {
        "id": "gj5eB0PB2Egs"
      },
      "source": [
        "Customer with ID 2004 is the nearest neighbour to the new_customer and they did not take a personal loan. So, the prediction is that the new customer will also not take a personal loan."
      ]
    },
    {
      "cell_type": "markdown",
      "metadata": {
        "id": "PxclQbf5DDI6"
      },
      "source": [
        "8. Now repartition the data into three parts: training, validation, and test sets (50%,\n",
        "30%, and 20%)."
      ]
    },
    {
      "cell_type": "code",
      "execution_count": 10,
      "metadata": {
        "colab": {
          "base_uri": "https://localhost:8080/"
        },
        "id": "SW9ppzyzIncm",
        "outputId": "ec4ae79d-97f9-43cf-ffde-c04b967a05d3"
      },
      "outputs": [
        {
          "name": "stdout",
          "output_type": "stream",
          "text": [
            "(2500, 13) (1500, 13) (1000, 13)\n"
          ]
        }
      ],
      "source": [
        "# Repartition the data into training (50%), validation (30%), and test (20%) sets\n",
        "X_train2, X_temp, y_train2, y_temp = train_test_split(X, y, test_size=0.5, random_state=123)\n",
        "X_valid2, X_test2, y_valid2, y_test2 = train_test_split(X_temp, y_temp, test_size=0.4, random_state=123)\n",
        "print(X_train2.shape, X_valid2.shape,X_test2.shape)\n",
        "\n"
      ]
    },
    {
      "cell_type": "code",
      "execution_count": 11,
      "metadata": {
        "id": "20CWtxm6JAuh"
      },
      "outputs": [],
      "source": [
        "# Standardize the data for the new partitions\n",
        "scaler2 = StandardScaler()\n",
        "scaler2.fit(X_train2)\n",
        "X_train2 = scaler2.transform(X_train2)\n",
        "X_valid2 = scaler2.transform(X_valid2)\n",
        "X_test2 = scaler2.transform(X_test2)\n",
        "\n"
      ]
    },
    {
      "cell_type": "markdown",
      "metadata": {
        "id": "qYDZ4N0iP8zx"
      },
      "source": [
        "9. Apply the k-NN method with the optimal k chosen above."
      ]
    },
    {
      "cell_type": "code",
      "execution_count": 12,
      "metadata": {
        "id": "JXJP_KrdJXFa"
      },
      "outputs": [],
      "source": [
        "# Re-run K-NN with the best k on the new partitions\n",
        "knn_train2_classifier = KNeighborsClassifier(n_neighbors=1)\n",
        "knn_train2_classifier.fit(X_train2, y_train2)\n",
        "\n",
        "knn_valid2_classifier = KNeighborsClassifier(n_neighbors=1)\n",
        "knn_valid2_classifier.fit(X_valid2, y_valid2)\n",
        "\n",
        "knn_test2_classifier = KNeighborsClassifier(n_neighbors=1)\n",
        "knn_test2_classifier.fit(X_test2, y_test2)\n",
        "\n",
        "knn_train2_prediction = knn_train2_classifier.predict(X_train2)\n",
        "knn_valid2_prediction = knn_valid2_classifier.predict(X_valid2)\n",
        "knn_test2_prediction = knn_test2_classifier.predict(X_test2)\n"
      ]
    },
    {
      "cell_type": "markdown",
      "metadata": {
        "id": "WCsJaG17QBly"
      },
      "source": [
        "10. Compare the confusion matrix of the test set with that of the training and validation\n",
        "sets. Comment on the differences and their reason.\n"
      ]
    },
    {
      "cell_type": "code",
      "execution_count": 13,
      "metadata": {
        "colab": {
          "base_uri": "https://localhost:8080/"
        },
        "id": "00RnHqZnJcvp",
        "outputId": "d7c599ec-261a-467e-de32-0767282ebbc9"
      },
      "outputs": [
        {
          "name": "stdout",
          "output_type": "stream",
          "text": [
            "[[2258    0]\n",
            " [   0  242]]\n",
            "[[1353    0]\n",
            " [   0  147]]\n",
            "[[909   0]\n",
            " [  0  91]]\n"
          ]
        }
      ],
      "source": [
        "# Calculate confusion matrices for different sets\n",
        "confusion_matrix_train2 = confusion_matrix(y_train2, knn_train2_prediction)\n",
        "confusion_matrix_valid2 = confusion_matrix(y_valid2, knn_valid2_prediction)\n",
        "confusion_matrix_test2 = confusion_matrix(y_test2, knn_test2_prediction)\n",
        "\n",
        "print(confusion_matrix_train2)\n",
        "print(confusion_matrix_valid2)\n",
        "print(confusion_matrix_test2)"
      ]
    },
    {
      "cell_type": "code",
      "execution_count": 14,
      "metadata": {
        "colab": {
          "base_uri": "https://localhost:8080/"
        },
        "id": "fkTxid5rax98",
        "outputId": "f6d98e4b-a8a5-4ed7-94d3-51a4f1584bfd"
      },
      "outputs": [
        {
          "name": "stdout",
          "output_type": "stream",
          "text": [
            "              precision    recall  f1-score   support\n",
            "\n",
            "           0       1.00      1.00      1.00      2258\n",
            "           1       1.00      1.00      1.00       242\n",
            "\n",
            "    accuracy                           1.00      2500\n",
            "   macro avg       1.00      1.00      1.00      2500\n",
            "weighted avg       1.00      1.00      1.00      2500\n",
            "\n",
            "              precision    recall  f1-score   support\n",
            "\n",
            "           0       1.00      1.00      1.00      1353\n",
            "           1       1.00      1.00      1.00       147\n",
            "\n",
            "    accuracy                           1.00      1500\n",
            "   macro avg       1.00      1.00      1.00      1500\n",
            "weighted avg       1.00      1.00      1.00      1500\n",
            "\n",
            "              precision    recall  f1-score   support\n",
            "\n",
            "           0       1.00      1.00      1.00       909\n",
            "           1       1.00      1.00      1.00        91\n",
            "\n",
            "    accuracy                           1.00      1000\n",
            "   macro avg       1.00      1.00      1.00      1000\n",
            "weighted avg       1.00      1.00      1.00      1000\n",
            "\n"
          ]
        }
      ],
      "source": [
        "report_train2 = classification_report(y_train2, knn_train2_prediction)\n",
        "print(report_train2)\n",
        "\n",
        "report_valid2 = classification_report(y_valid2, knn_valid2_prediction)\n",
        "print(report_valid2)\n",
        "\n",
        "report_test2 = classification_report(y_test2, knn_test2_prediction)\n",
        "print(report_test2)"
      ]
    },
    {
      "cell_type": "markdown",
      "metadata": {
        "id": "nInVArTySOSH"
      },
      "source": [
        "Since all the accuracies are 1 we can assume that the model is overfitting. So, we can try computing the the accuracies with the next best k value which is 5\n"
      ]
    }
  ],
  "metadata": {
    "colab": {
      "provenance": []
    },
    "kernelspec": {
      "display_name": "Python 3",
      "name": "python3"
    },
    "language_info": {
      "name": "python"
    }
  },
  "nbformat": 4,
  "nbformat_minor": 0
}
