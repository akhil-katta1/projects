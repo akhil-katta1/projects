{
  "cells": [
    {
      "cell_type": "code",
      "execution_count": null,
      "metadata": {
        "id": "rnb4eCwB2x6g",
      },
 
      "source": [
        "# Import required packages\n",
        "from pathlib import Path\n",
        "import numpy as np\n",
        "import pandas as pd\n",
        "from sklearn import preprocessing\n",
        "from sklearn.preprocessing import StandardScaler\n",
        "from sklearn.model_selection import train_test_split\n",
        "from sklearn.metrics import accuracy_score\n",
        "from sklearn.neighbors import NearestNeighbors, KNeighborsClassifier\n",
        "import matplotlib.pylab as plt\n",
        "from sklearn.metrics import confusion_matrix\n",
        "from sklearn.metrics import classification_report\n",
        "\n",
        "import dmba\n",
        "\n",
        "%matplotlib inline"
      ]
    },
    {
      "cell_type": "code",
      "execution_count": null,
      "metadata": {
        "colab": {
          "base_uri": "https://localhost:8080/"
        },
        "id": "5JgwEOgq2_i3",
        "outputId": "c739a004-5783-48ba-e932-14da3226df27"
      },
 
      "source": [
        "# Load the Universal Bank dataset and name it as \"bank_df\"\n",
        "universal_bank_df = pd.read_csv(\"UniversalBank.csv\")\n",
        "universal_bank_df.dropna(inplace=True)\n",
        "universal_bank_df.head(9)\n",
        "universal_bank_df = universal_bank_df.drop(columns=['ID', 'ZIP Code'])\n",
        "\n",
        "# One-hot encode the 'Education' column\n",
        "edu = pd.get_dummies(universal_bank_df['Education'], prefix='Education')\n",
        "universal_bank_df = pd.concat([universal_bank_df, edu], axis=1)\n",
        "universal_bank_df.drop(['Education'], axis=1, inplace=True)\n",
        "print(universal_bank_df)"
      ]
    },
    {
      "cell_type": "markdown",
      "metadata": {
        "id": "61nVVvB_c-Rs"
      },
      "source": [
        "##Partition the data\n",
        "1. Partition the data into training (75%) and validation (25%) sets."
      ]
    },
    {
      "cell_type": "code",
      "execution_count": null,
      "metadata": {
        "colab": {
          "base_uri": "https://localhost:8080/"
        },
        "id": "gLfbKRGc5oNe",
        "outputId": "57abd1e6-a515-4005-eca2-40e2e7b8bb10"
      },
 
      "source": [
        "# Partition the data into training (75%) and validation (25%) sets\n",
        "\n",
        "X = universal_bank_df.drop(['Personal Loan'], axis=1)\n",
        "y = universal_bank_df['Personal Loan']\n",
        "X_train, X_valid, y_train, y_valid = train_test_split(X, y, test_size=0.25, random_state=123)\n",
        "print(X_train.shape, X_valid.shape, y_train.shape, y_valid.shape)\n",
        "print(X_train)"
      ]
    },
    {
      "cell_type": "markdown",
      "metadata": {
        "id": "kU5A7-frcyrG"
      },
      "source": [
        "##Record to be classified\n",
        "2. Consider the following customer for classification: Age = 40, Experience = 10,\n",
        "Income = 84, Family = 2, CCAvg = 2, Education_1 = 0, Education_2 = 1,\n",
        "Education_3 = 0, Mortgage = 0, Securities Account = 1, CD Account = 1, Online = 1,\n",
        "and Credit Card = 1."
      ]
    },
    {
      "cell_type": "code",
      "execution_count": null,
      "metadata": {
        "colab": {
          "base_uri": "https://localhost:8080/"
        },
        "id": "WwDR4s_R7blo",
        "outputId": "2210dd6e-bd2c-4423-d110-1c19e5b9bf03"
      },
 
      "source": [
        "new_customer = pd.DataFrame({\n",
        "    'Age': [40],\n",
        "    'Experience': [10],\n",
        "    'Income': [84],\n",
        "    'Family': [2],\n",
        "    'CCAvg': [2],\n",
        "    'Mortgage': [0],\n",
        "    'Securities Account': [1],\n",
        "    'CD Account': [1],\n",
        "    'Online': [1],\n",
        "    'CreditCard': [1],\n",
        "    'Education_1': [0],\n",
        "    'Education_2': [1],\n",
        "    'Education_3': [0]\n",
        "})\n",
        "\n",
        "print(new_customer)\n"
      ]
    },
    {
      "cell_type": "markdown",
      "metadata": {
        "id": "yAe8hpy1dWqL"
      },
      "source": [
        "##Preprocess the data\n"
      ]
    },
    {
      "cell_type": "markdown",
      "metadata": {},
      "source": [
        "3. Standardize all the data sets using mean and standard deviations."
      ]
    },
    {
      "cell_type": "code",
      "execution_count": 5,
      "metadata": {
        "id": "UA5aJ-T08_ul"
      },
 
      "source": [
        "## Standardize the data using mean and standard deviations\n",
        "scaler = StandardScaler()\n",
        "scaler.fit(X_train)\n",
        "X_train = scaler.transform(X_train)\n",
        "X_valid = scaler.transform(X_valid)\n",
        "new_customer = scaler.transform(new_customer)"
      ]
    },
    {
      "cell_type": "markdown",
      "metadata": {
        "id": "sYjwzUNK3dv4"
      },
      "source": [
        "4. Perform a k-NN classification with all predictors except ID and ZIP code using k = 1.\n",
        "How would this customer be classified?"
      ]
    },
    {
      "cell_type": "code",
      "execution_count": null,
      "metadata": {
        "colab": {
          "base_uri": "https://localhost:8080/"
        },
        "id": "D7_Pp22CIhmv",
        "outputId": "6ddda799-c09f-4c31-b5d9-30280d28e46d"
      },
 
      "source": [
        "# Perform K-NN classification with k = 1\n",
        "knn = NearestNeighbors(n_neighbors=1)\n",
        "knn.fit(X_train)\n",
        "\n",
        "distances, indices = knn.kneighbors(X_valid)\n",
        "nearest_neighbors = universal_bank_df.iloc[indices[0], :]\n",
        "print(nearest_neighbors[\"Personal Loan\"])"
      ]
    },
    {
      "cell_type": "markdown",
      "metadata": {
        "id": "Q62sV4Wak9HS"
      },
      "source": [
        "Customer with ID 3497 is the nearest neighbour and they did not take a personal loan. So, the prediction is that the new customer will also not take a personal loan.\n"
      ]
    },
    {
      "cell_type": "markdown",
      "metadata": {
        "id": "Zw85oxQr3-92"
      },
      "source": [
        "5. Now find the optimal value of k using the validation data set. What is the optimal k?"
      ]
    },
    {
      "cell_type": "code",
      "execution_count": null,
      "metadata": {
        "colab": {
          "base_uri": "https://localhost:8080/"
        },
        "id": "iWb4PHW6IigG",
        "outputId": "070aa420-3164-444c-d0df-e3050e07ff49"
      },
 
      "source": [
        "# Find the optimal value of k using the validation data set\n",
        "results = []\n",
        "for k in range(1, 20):\n",
        "    knn = KNeighborsClassifier(n_neighbors=k).fit(X_train, y_train)\n",
        "    results.append({\n",
        "        'k': k,\n",
        "        'accuracy': accuracy_score(y_valid, knn.predict(X_valid))\n",
        "    })\n",
        "\n",
        "# Convert results to a pandas data frame\n",
        "results = pd.DataFrame(results)\n",
        "print(results)"
      ]
    },
    {
      "cell_type": "markdown",
      "metadata": {
        "id": "gNMIbq8Q4Ey4"
      },
      "source": [
        "K=1 gives the most accuracy and hence it is the optimal **k**.\n",
        "Using K = 1 might cause overfitting of the model.\n"
      ]
    },
    {
      "cell_type": "markdown",
      "metadata": {
        "id": "c0BruMzY7gEL"
      },
      "source": [
        "6. Print the confusion matrix for the validation data that results from using the optimal\n",
        "k."
      ]
    },
    {
      "cell_type": "code",
      "execution_count": null,
      "metadata": {
        "colab": {
          "base_uri": "https://localhost:8080/"
        },
        "id": "FxgF8fWd-uAV",
        "outputId": "110ffc5e-5c61-4981-a29d-4dfd30fe01bd"
      },
 
      "source": [
        "knn_optimal = KNeighborsClassifier(n_neighbors=1)\n",
        "knn_optimal.fit(X_train, y_train)\n",
        "\n",
        "# Make predictions on the validation data\n",
        "y_pred = knn_optimal.predict(X_valid)\n",
        "\n",
        "# Compute the confusion matrix\n",
        "confusion = confusion_matrix(y_valid, y_pred)\n",
        "\n",
        "print(\"Confusion Matrix:\")\n",
        "print(confusion)"
      ]
    },
    {
      "cell_type": "markdown",
      "metadata": {
        "id": "wOWI_-iJChkA"
      },
      "source": [
        "7. Classify the customer specified in Question 2 using the best k."
      ]
    },
    {
      "cell_type": "code",
      "execution_count": null,
      "metadata": {
        "colab": {
          "base_uri": "https://localhost:8080/"
        },
        "id": "RyC3yOKYIlMZ",
        "outputId": "5cc8ea61-134b-4893-eeb6-4362c9f2feda"
      },
 
      "source": [
        "knn_best_classifier = NearestNeighbors(n_neighbors=1)\n",
        "knn_best_classifier.fit(X_train)\n",
        "distances, indices = knn_best_classifier.kneighbors(new_customer)\n",
        "nearest_neighbors = universal_bank_df.iloc[indices[0], :]\n",
        "print(nearest_neighbors[\"Personal Loan\"])\n"
      ]
    },
    {
      "cell_type": "markdown",
      "metadata": {
        "id": "gj5eB0PB2Egs"
      },
      "source": [
        "Customer with ID 2004 is the nearest neighbour to the new_customer and they did not take a personal loan. So, the prediction is that the new customer will also not take a personal loan."
      ]
    },
    {
      "cell_type": "markdown",
      "metadata": {
        "id": "PxclQbf5DDI6"
      },
      "source": [
        "8. Now repartition the data into three parts: training, validation, and test sets (50%,\n",
        "30%, and 20%)."
      ]
    },
    {
      "cell_type": "code",
      "execution_count": null,
      "metadata": {
        "colab": {
          "base_uri": "https://localhost:8080/"
        },
        "id": "SW9ppzyzIncm",
        "outputId": "ec4ae79d-97f9-43cf-ffde-c04b967a05d3"
      },
 
      "source": [
        "# Repartition the data into training (50%), validation (30%), and test (20%) sets\n",
        "X_train2, X_temp, y_train2, y_temp = train_test_split(X, y, test_size=0.5, random_state=123)\n",
        "X_valid2, X_test2, y_valid2, y_test2 = train_test_split(X_temp, y_temp, test_size=0.4, random_state=123)\n",
        "print(X_train2.shape, X_valid2.shape,X_test2.shape)\n",
        "\n"
      ]
    },
    {
      "cell_type": "code",
      "execution_count": 11,
      "metadata": {
        "id": "20CWtxm6JAuh"
      },
 
      "source": [
        "# Standardize the data for the new partitions\n",
        "scaler2 = StandardScaler()\n",
        "scaler2.fit(X_train2)\n",
        "X_train2 = scaler2.transform(X_train2)\n",
        "X_valid2 = scaler2.transform(X_valid2)\n",
        "X_test2 = scaler2.transform(X_test2)\n",
        "\n"
      ]
    },
    {
      "cell_type": "markdown",
      "metadata": {
        "id": "qYDZ4N0iP8zx"
      },
      "source": [
        "9. Apply the k-NN method with the optimal k chosen above."
      ]
    },
    {
      "cell_type": "code",
      "execution_count": 12,
      "metadata": {
        "id": "JXJP_KrdJXFa"
      },
 
      "source": [
        "# Re-run K-NN with the best k on the new partitions\n",
        "knn_train2_classifier = KNeighborsClassifier(n_neighbors=1)\n",
        "knn_train2_classifier.fit(X_train2, y_train2)\n",
        "\n",
        "knn_valid2_classifier = KNeighborsClassifier(n_neighbors=1)\n",
        "knn_valid2_classifier.fit(X_valid2, y_valid2)\n",
        "\n",
        "knn_test2_classifier = KNeighborsClassifier(n_neighbors=1)\n",
        "knn_test2_classifier.fit(X_test2, y_test2)\n",
        "\n",
        "knn_train2_prediction = knn_train2_classifier.predict(X_train2)\n",
        "knn_valid2_prediction = knn_valid2_classifier.predict(X_valid2)\n",
        "knn_test2_prediction = knn_test2_classifier.predict(X_test2)\n"
      ]
    },
    {
      "cell_type": "markdown",
      "metadata": {
        "id": "WCsJaG17QBly"
      },
      "source": [
        "10. Compare the confusion matrix of the test set with that of the training and validation\n",
        "sets. Comment on the differences and their reason.\n"
      ]
    },
    {
      "cell_type": "code",
      "execution_count": null,
      "metadata": {
        "colab": {
          "base_uri": "https://localhost:8080/"
        },
        "id": "00RnHqZnJcvp",
        "outputId": "d7c599ec-261a-467e-de32-0767282ebbc9"
      },
 
      "source": [
        "# Calculate confusion matrices for different sets\n",
        "confusion_matrix_train2 = confusion_matrix(y_train2, knn_train2_prediction)\n",
        "confusion_matrix_valid2 = confusion_matrix(y_valid2, knn_valid2_prediction)\n",
        "confusion_matrix_test2 = confusion_matrix(y_test2, knn_test2_prediction)\n",
        "\n",
        "print(confusion_matrix_train2)\n",
        "print(confusion_matrix_valid2)\n",
        "print(confusion_matrix_test2)"
      ]
    },
    {
      "cell_type": "code",
      "execution_count": null,
      "metadata": {
        "colab": {
          "base_uri": "https://localhost:8080/"
        },
        "id": "fkTxid5rax98",
        "outputId": "f6d98e4b-a8a5-4ed7-94d3-51a4f1584bfd"
      },
      "source": [
        "report_train2 = classification_report(y_train2, knn_train2_prediction)\n",
        "print(report_train2)\n",
        "\n",
        "report_valid2 = classification_report(y_valid2, knn_valid2_prediction)\n",
        "print(report_valid2)\n",
        "\n",
        "report_test2 = classification_report(y_test2, knn_test2_prediction)\n",
        "print(report_test2)"
      ]
    },
    {
      "cell_type": "markdown",
      "metadata": {
        "id": "nInVArTySOSH"
      },
      "source": [
        "Since all the accuracies are 1 we can assume that the model is overfitting. So, we can try computing the the accuracies with the next best k value which is 5\n"
      ]
    }
  ],
  "metadata": {
    "colab": {
      "provenance": []
    },
    "kernelspec": {
      "display_name": "Python 3",
      "name": "python3"
    },
    "language_info": {
      "name": "python"
    }
  },
  "nbformat": 4,
  "nbformat_minor": 0
}
